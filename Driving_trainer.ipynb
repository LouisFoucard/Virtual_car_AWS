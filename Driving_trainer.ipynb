{
 "metadata": {
  "name": ""
 },
 "nbformat": 3,
 "nbformat_minor": 0,
 "worksheets": [
  {
   "cells": [
    {
     "cell_type": "code",
     "collapsed": false,
     "input": [
      "import matplotlib\n",
      "import matplotlib.pyplot as plt\n",
      "import matplotlib.cm as cm\n",
      "from PIL import Image\n",
      "from urllib import urlretrieve\n",
      "import cPickle as pickle\n",
      "import os\n",
      "import gzip\n",
      "import numpy as np\n",
      "import theano\n",
      "import lasagne\n",
      "from lasagne import layers\n",
      "from lasagne.updates import nesterov_momentum\n",
      "from nolearn.lasagne import NeuralNet\n",
      "from nolearn.lasagne import visualize\n",
      "from sklearn.metrics import classification_report\n",
      "from sklearn.metrics import confusion_matrix\n",
      "%matplotlib inline"
     ],
     "language": "python",
     "metadata": {},
     "outputs": [
      {
       "output_type": "stream",
       "stream": "stderr",
       "text": [
        "Using gpu device 0: GRID K520 (CNMeM is disabled)\n"
       ]
      }
     ],
     "prompt_number": 1
    },
    {
     "cell_type": "code",
     "collapsed": false,
     "input": [
      "def load_dataset():\n",
      "    \n",
      "        \n",
      "    fIm = open('/home/ubuntu/images3.p', 'r')\n",
      "    fIn = open('/home/ubuntu/inputs3.p', 'r')\n",
      "    X_train = pickle.load(fIm)/255.\n",
      "    y_train = pickle.load(fIn)\n",
      "    \n",
      "    H = X_train.shape[1]\n",
      "    W = X_train.shape[2]\n",
      "    ch = X_train.shape[3]\n",
      "    \n",
      "    X_train = X_train.reshape(-1,ch,H,W)\n",
      "    X_train = X_train.astype(np.float32)\n",
      "    y_train = y_train.astype(np.uint8)\n",
      "    \n",
      "    return X_train, y_train, H, W, ch\n",
      "\n",
      "def deprocess(x):\n",
      "    \n",
      "    x = x.reshape(H,W)\n",
      "    #x = x*255\n",
      "    #x = np.clip(x, 0, 255).astype('uint8')\n",
      "    return x"
     ],
     "language": "python",
     "metadata": {},
     "outputs": [],
     "prompt_number": 5
    },
    {
     "cell_type": "code",
     "collapsed": false,
     "input": [
      "X_train, y_train, H, W, ch = load_dataset()"
     ],
     "language": "python",
     "metadata": {},
     "outputs": [],
     "prompt_number": 6
    },
    {
     "cell_type": "code",
     "collapsed": false,
     "input": [
      "y_train2 = np.zeros(X_train.shape[0])\n",
      "n = -1\n",
      "for i in y_train:\n",
      "    n += 1\n",
      "    if i[2]==1:\n",
      "        y_train2[n] = 0\n",
      "    if i[3]==1:\n",
      "        y_train2[n] = 1\n",
      "    if i[2]==0 and i[3] == 0:\n",
      "        y_train2[n] = 2\n",
      "y_train2 = y_train2.astype('uint8')"
     ],
     "language": "python",
     "metadata": {},
     "outputs": [],
     "prompt_number": 7
    },
    {
     "cell_type": "code",
     "collapsed": false,
     "input": [
      "print 'X type and shape:', X_train.dtype, X_train.shape\n",
      "print 'X.min():', X_train.min()\n",
      "print 'X.max():', X_train.max()\n",
      "print 'y type and shape:', y_train2.dtype, y_train2.shape\n",
      "print 'y.min():', y_train2.min()\n",
      "print 'y.max():', y_train2.max()"
     ],
     "language": "python",
     "metadata": {},
     "outputs": [
      {
       "output_type": "stream",
       "stream": "stdout",
       "text": [
        "X type and shape: float32 (5699, 1, 22, 75)\n",
        "X.min(): 0.0\n",
        "X.max(): 1.0\n",
        "y type and shape: uint8 (5699,)\n",
        "y.min(): 0\n",
        "y.max(): 2\n"
       ]
      }
     ],
     "prompt_number": 8
    },
    {
     "cell_type": "code",
     "collapsed": false,
     "input": [
      "plt.imshow(deprocess(X_train[312]))\n",
      "y_train2[312]"
     ],
     "language": "python",
     "metadata": {},
     "outputs": [
      {
       "metadata": {},
       "output_type": "pyout",
       "prompt_number": 26,
       "text": [
        "1"
       ]
      },
      {
       "metadata": {},
       "output_type": "display_data",
       "png": "[encoded data removed]",
       "text": [
        "<matplotlib.figure.Figure at 0x7f79ade4de10>"
       ]
      }
     ],
     "prompt_number": 26
    },
    {
     "cell_type": "code",
     "collapsed": false,
     "input": [
      "net1 = NeuralNet(\n",
      "    layers=[('input', layers.InputLayer),\n",
      "            ('conv2d1', layers.Conv2DLayer),\n",
      "            ('maxpool1', layers.MaxPool2DLayer),\n",
      "            ('conv2d2', layers.Conv2DLayer),\n",
      "            ('maxpool2', layers.MaxPool2DLayer),\n",
      "            ('dropout1', layers.DropoutLayer),\n",
      "            ('dense', layers.DenseLayer),\n",
      "            ('dropout2', layers.DropoutLayer),\n",
      "            ('output', layers.DenseLayer),\n",
      "            ],\n",
      "    # input layer\n",
      "    input_shape=(None, ch, H, W),\n",
      "    # layer conv2d1\n",
      "    conv2d1_num_filters=32,\n",
      "    conv2d1_filter_size=(5, 5),\n",
      "    conv2d1_nonlinearity=lasagne.nonlinearities.rectify,\n",
      "    conv2d1_W=lasagne.init.GlorotUniform(),  \n",
      "    # layer maxpool1\n",
      "    maxpool1_pool_size=(2, 2),    \n",
      "    # layer conv2d2\n",
      "    conv2d2_num_filters=64,\n",
      "    conv2d2_filter_size=(3, 3),\n",
      "    conv2d2_nonlinearity=lasagne.nonlinearities.rectify,\n",
      "    # layer maxpool2\n",
      "    maxpool2_pool_size=(2, 2),\n",
      "    # dropout1\n",
      "    dropout1_p=0.5,    \n",
      "    # dense\n",
      "    dense_num_units=128,\n",
      "    dense_nonlinearity=lasagne.nonlinearities.rectify,    \n",
      "    # dropout2\n",
      "    dropout2_p=0.5,    \n",
      "    # output\n",
      "    output_nonlinearity=lasagne.nonlinearities.softmax,\n",
      "    output_num_units=3,\n",
      "    # optimization method params\n",
      "    update=nesterov_momentum,\n",
      "    update_learning_rate=0.01,\n",
      "    update_momentum=0.9,\n",
      "    max_epochs=500,\n",
      "    verbose=1,\n",
      "    )"
     ],
     "language": "python",
     "metadata": {},
     "outputs": [],
     "prompt_number": 31
    },
    {
     "cell_type": "code",
     "collapsed": false,
     "input": [
      "nn = net1.fit(X_train, y_train2)"
     ],
     "language": "python",
     "metadata": {},
     "outputs": [
      {
       "output_type": "stream",
       "stream": "stdout",
       "text": [
        "# Neural Network with 413059 learnable parameters\n",
        "\n",
        "## Layer information\n",
        "\n",
        "  #  name      size\n",
        "---  --------  --------\n",
        "  0  input     1x22x75\n",
        "  1  conv2d1   32x18x71\n",
        "  2  maxpool1  32x9x35\n",
        "  3  conv2d2   64x7x33\n",
        "  4  maxpool2  64x3x16\n",
        "  5  dropout1  64x3x16\n",
        "  6  dense     128\n",
        "  7  dropout2  128\n",
        "  8  output    3\n",
        "\n"
       ]
      },
      {
       "output_type": "stream",
       "stream": "stdout",
       "text": [
        "  epoch    train loss    valid loss    train/val    valid acc  dur\n",
        "-------  ------------  ------------  -----------  -----------  -----\n",
        "      1       \u001b[36m0.82275\u001b[0m       \u001b[32m0.71239\u001b[0m      1.15491      0.69483  0.80s\n"
       ]
      },
      {
       "output_type": "stream",
       "stream": "stdout",
       "text": [
        "      2       \u001b[36m0.63327\u001b[0m       \u001b[32m0.60172\u001b[0m      1.05244      0.73557  0.75s\n"
       ]
      },
      {
       "output_type": "stream",
       "stream": "stdout",
       "text": [
        "      3       \u001b[36m0.56460\u001b[0m       0.61125      0.92369      0.73851  0.75s\n"
       ]
      },
      {
       "output_type": "stream",
       "stream": "stdout",
       "text": [
        "      4       \u001b[36m0.53723\u001b[0m       \u001b[32m0.56943\u001b[0m      0.94345      0.74632  0.75s\n"
       ]
      },
      {
       "output_type": "stream",
       "stream": "stdout",
       "text": [
        "      5       \u001b[36m0.51417\u001b[0m       0.57276      0.89770      0.74371  0.75s\n"
       ]
      },
      {
       "output_type": "stream",
       "stream": "stdout",
       "text": [
        "      6       0.51782       0.57567      0.89951      0.74371  0.75s\n"
       ]
      },
      {
       "output_type": "stream",
       "stream": "stdout",
       "text": [
        "      7       \u001b[36m0.50797\u001b[0m       \u001b[32m0.56174\u001b[0m      0.90427      0.74832  0.75s\n"
       ]
      },
      {
       "output_type": "stream",
       "stream": "stdout",
       "text": [
        "      8       \u001b[36m0.50429\u001b[0m       \u001b[32m0.55108\u001b[0m      0.91510      0.73833  0.75s\n"
       ]
      },
      {
       "output_type": "stream",
       "stream": "stdout",
       "text": [
        "      9       \u001b[36m0.48975\u001b[0m       0.55356      0.88473      0.73485  0.75s\n"
       ]
      },
      {
       "output_type": "stream",
       "stream": "stdout",
       "text": [
        "     10       0.49262       \u001b[32m0.55057\u001b[0m      0.89473      0.74198  0.75s\n"
       ]
      },
      {
       "output_type": "stream",
       "stream": "stdout",
       "text": [
        "     11       \u001b[36m0.48333\u001b[0m       \u001b[32m0.55037\u001b[0m      0.87820      0.74198  0.75s\n"
       ]
      },
      {
       "output_type": "stream",
       "stream": "stdout",
       "text": [
        "     12       0.48338       \u001b[32m0.54674\u001b[0m      0.88412      0.74285  0.75s\n"
       ]
      },
      {
       "output_type": "stream",
       "stream": "stdout",
       "text": [
        "     13       \u001b[36m0.47713\u001b[0m       \u001b[32m0.54126\u001b[0m      0.88152      0.74216  0.75s\n"
       ]
      },
      {
       "output_type": "stream",
       "stream": "stdout",
       "text": [
        "     14       0.47748       \u001b[32m0.53782\u001b[0m      0.88781      0.73928  0.75s\n"
       ]
      },
      {
       "output_type": "stream",
       "stream": "stdout",
       "text": [
        "     15       \u001b[36m0.47604\u001b[0m       \u001b[32m0.53692\u001b[0m      0.88662      0.73833  0.75s\n"
       ]
      },
      {
       "output_type": "stream",
       "stream": "stdout",
       "text": [
        "     16       \u001b[36m0.47448\u001b[0m       \u001b[32m0.53613\u001b[0m      0.88501      0.74180  0.75s\n"
       ]
      },
      {
       "output_type": "stream",
       "stream": "stdout",
       "text": [
        "     17       \u001b[36m0.47396\u001b[0m       0.54663      0.86706      0.73833  0.75s\n"
       ]
      },
      {
       "output_type": "stream",
       "stream": "stdout",
       "text": [
        "     18       \u001b[36m0.47033\u001b[0m       \u001b[32m0.52701\u001b[0m      0.89244      0.74832  0.75s\n"
       ]
      },
      {
       "output_type": "stream",
       "stream": "stdout",
       "text": [
        "     19       \u001b[36m0.46967\u001b[0m       0.54784      0.85731      0.73572  0.75s\n"
       ]
      },
      {
       "output_type": "stream",
       "stream": "stdout",
       "text": [
        "     20       \u001b[36m0.46920\u001b[0m       0.54046      0.86815      0.74120  0.75s\n"
       ]
      },
      {
       "output_type": "stream",
       "stream": "stdout",
       "text": [
        "     21       \u001b[36m0.46715\u001b[0m       \u001b[32m0.52473\u001b[0m      0.89026      0.74380  0.75s\n"
       ]
      },
      {
       "output_type": "stream",
       "stream": "stdout",
       "text": [
        "     22       0.46862       0.54358      0.86210      0.74111  0.75s\n"
       ]
      },
      {
       "output_type": "stream",
       "stream": "stdout",
       "text": [
        "     23       \u001b[36m0.46567\u001b[0m       \u001b[32m0.51517\u001b[0m      0.90392      0.74928  0.75s\n"
       ]
      },
      {
       "output_type": "stream",
       "stream": "stdout",
       "text": [
        "     24       \u001b[36m0.46208\u001b[0m       0.53570      0.86257      0.74120  0.75s\n"
       ]
      },
      {
       "output_type": "stream",
       "stream": "stdout",
       "text": [
        "     25       0.46341       0.52949      0.87519      0.74294  0.75s\n"
       ]
      },
      {
       "output_type": "stream",
       "stream": "stdout",
       "text": [
        "     26       0.46723       0.51656      0.90451      0.74928  0.75s\n"
       ]
      },
      {
       "output_type": "stream",
       "stream": "stdout",
       "text": [
        "     27       \u001b[36m0.46115\u001b[0m       \u001b[32m0.51031\u001b[0m      0.90367      0.75111  0.75s\n"
       ]
      },
      {
       "output_type": "stream",
       "stream": "stdout",
       "text": [
        "     28       \u001b[36m0.45932\u001b[0m       0.52708      0.87144      0.74294  0.75s\n"
       ]
      },
      {
       "output_type": "stream",
       "stream": "stdout",
       "text": [
        "     29       0.46395       0.51807      0.89553      0.74650  0.75s\n"
       ]
      },
      {
       "output_type": "stream",
       "stream": "stdout",
       "text": [
        "     30       0.46287       0.51979      0.89049      0.74554  0.75s\n"
       ]
      },
      {
       "output_type": "stream",
       "stream": "stdout",
       "text": [
        "     31       0.46048       0.51973      0.88600      0.74476  0.75s\n"
       ]
      },
      {
       "output_type": "stream",
       "stream": "stdout",
       "text": [
        "     32       \u001b[36m0.45852\u001b[0m       0.51515      0.89007      0.74641  0.75s\n"
       ]
      },
      {
       "output_type": "stream",
       "stream": "stdout",
       "text": [
        "     33       \u001b[36m0.45780\u001b[0m       0.51274      0.89285      0.74485  0.75s\n"
       ]
      },
      {
       "output_type": "stream",
       "stream": "stdout",
       "text": [
        "     34       0.45842       \u001b[32m0.50334\u001b[0m      0.91075      0.75189  0.75s\n"
       ]
      },
      {
       "output_type": "stream",
       "stream": "stdout",
       "text": [
        "     35       0.46336       0.50471      0.91806      0.74755  0.75s\n"
       ]
      },
      {
       "output_type": "stream",
       "stream": "stdout",
       "text": [
        "     36       0.45807       0.50430      0.90834      0.75102  0.75s\n"
       ]
      },
      {
       "output_type": "stream",
       "stream": "stdout",
       "text": [
        "     37       0.46443       0.50597      0.91789      0.74823  0.75s\n"
       ]
      },
      {
       "output_type": "stream",
       "stream": "stdout",
       "text": [
        "     38       \u001b[36m0.45646\u001b[0m       \u001b[32m0.50018\u001b[0m      0.91260      0.74823  0.75s\n"
       ]
      },
      {
       "output_type": "stream",
       "stream": "stdout",
       "text": [
        "     39       0.46014       0.50193      0.91673      0.75015  0.75s\n"
       ]
      },
      {
       "output_type": "stream",
       "stream": "stdout",
       "text": [
        "     40       0.46376       0.50493      0.91846      0.74563  0.75s\n"
       ]
      },
      {
       "output_type": "stream",
       "stream": "stdout",
       "text": [
        "     41       0.46319       \u001b[32m0.49685\u001b[0m      0.93226      0.74668  0.75s\n"
       ]
      },
      {
       "output_type": "stream",
       "stream": "stdout",
       "text": [
        "     42       0.46221       \u001b[32m0.49481\u001b[0m      0.93412      0.75275  0.75s\n"
       ]
      },
      {
       "output_type": "stream",
       "stream": "stdout",
       "text": [
        "     43       0.45820       \u001b[32m0.49429\u001b[0m      0.92699      0.75284  0.75s\n"
       ]
      },
      {
       "output_type": "stream",
       "stream": "stdout",
       "text": [
        "     44       0.46098       \u001b[32m0.49353\u001b[0m      0.93403      0.74937  0.75s\n"
       ]
      },
      {
       "output_type": "stream",
       "stream": "stdout",
       "text": [
        "     45       \u001b[36m0.45549\u001b[0m       \u001b[32m0.49116\u001b[0m      0.92738      0.75033  0.75s\n"
       ]
      },
      {
       "output_type": "stream",
       "stream": "stdout",
       "text": [
        "     46       0.45600       0.49374      0.92358      0.75006  0.75s\n"
       ]
      },
      {
       "output_type": "stream",
       "stream": "stdout",
       "text": [
        "     47       0.45622       0.49688      0.91817      0.74997  0.75s\n"
       ]
      },
      {
       "output_type": "stream",
       "stream": "stdout",
       "text": [
        "     48       0.45826       0.49350      0.92859      0.75180  0.75s\n"
       ]
      },
      {
       "output_type": "stream",
       "stream": "stdout",
       "text": [
        "     49       \u001b[36m0.45548\u001b[0m       0.49286      0.92416      0.74937  0.75s\n"
       ]
      },
      {
       "output_type": "stream",
       "stream": "stdout",
       "text": [
        "     50       0.45617       0.49122      0.92865      0.74659  0.75s\n"
       ]
      },
      {
       "output_type": "stream",
       "stream": "stdout",
       "text": [
        "     51       0.45953       \u001b[32m0.48909\u001b[0m      0.93956      0.75380  0.75s\n"
       ]
      },
      {
       "output_type": "stream",
       "stream": "stdout",
       "text": [
        "     52       \u001b[36m0.45369\u001b[0m       \u001b[32m0.48357\u001b[0m      0.93821      0.75563  0.75s\n"
       ]
      },
      {
       "output_type": "stream",
       "stream": "stdout",
       "text": [
        "     53       \u001b[36m0.45293\u001b[0m       0.48678      0.93047      0.75015  0.75s\n"
       ]
      },
      {
       "output_type": "stream",
       "stream": "stdout",
       "text": [
        "     54       0.45673       0.48900      0.93401      0.75216  0.75s\n"
       ]
      },
      {
       "output_type": "stream",
       "stream": "stdout",
       "text": [
        "     55       0.45336       0.48746      0.93005      0.75102  0.75s\n"
       ]
      },
      {
       "output_type": "stream",
       "stream": "stdout",
       "text": [
        "     56       \u001b[36m0.45176\u001b[0m       0.48415      0.93309      0.74946  0.75s\n"
       ]
      },
      {
       "output_type": "stream",
       "stream": "stdout",
       "text": [
        "     57       \u001b[36m0.45095\u001b[0m       0.48883      0.92252      0.75006  0.75s\n"
       ]
      },
      {
       "output_type": "stream",
       "stream": "stdout",
       "text": [
        "     58       0.45628       0.48786      0.93526      0.75015  0.75s\n"
       ]
      },
      {
       "output_type": "stream",
       "stream": "stdout",
       "text": [
        "     59       0.45462       0.49039      0.92707      0.74823  0.75s\n"
       ]
      },
      {
       "output_type": "stream",
       "stream": "stdout",
       "text": [
        "     60       0.45461       0.48423      0.93881      0.75311  0.75s\n"
       ]
      },
      {
       "output_type": "stream",
       "stream": "stdout",
       "text": [
        "     61       0.45261       0.48720      0.92901      0.75120  0.75s\n"
       ]
      },
      {
       "output_type": "stream",
       "stream": "stdout",
       "text": [
        "     62       0.45594       0.48751      0.93525      0.74755  0.75s\n"
       ]
      },
      {
       "output_type": "stream",
       "stream": "stdout",
       "text": [
        "     63       0.45599       0.48397      0.94220      0.74919  0.75s\n"
       ]
      },
      {
       "output_type": "stream",
       "stream": "stdout",
       "text": [
        "     64       0.45424       \u001b[32m0.48242\u001b[0m      0.94159      0.75024  0.75s\n"
       ]
      },
      {
       "output_type": "stream",
       "stream": "stdout",
       "text": [
        "     65       0.45222       0.48294      0.93639      0.74946  0.75s\n"
       ]
      },
      {
       "output_type": "stream",
       "stream": "stdout",
       "text": [
        "     66       0.45266       0.48439      0.93449      0.74850  0.75s\n"
       ]
      },
      {
       "output_type": "stream",
       "stream": "stdout",
       "text": [
        "     67       0.45475       \u001b[32m0.48131\u001b[0m      0.94481      0.74764  0.75s\n"
       ]
      },
      {
       "output_type": "stream",
       "stream": "stdout",
       "text": [
        "     68       0.45549       \u001b[32m0.48016\u001b[0m      0.94863      0.75216  0.75s\n"
       ]
      },
      {
       "output_type": "stream",
       "stream": "stdout",
       "text": [
        "     69       \u001b[36m0.45051\u001b[0m       0.48116      0.93630      0.74955  0.75s\n"
       ]
      },
      {
       "output_type": "stream",
       "stream": "stdout",
       "text": [
        "     70       0.45278       0.48641      0.93086      0.74755  0.75s\n"
       ]
      },
      {
       "output_type": "stream",
       "stream": "stdout",
       "text": [
        "     71       \u001b[36m0.45038\u001b[0m       0.48072      0.93690      0.74964  0.75s\n"
       ]
      },
      {
       "output_type": "stream",
       "stream": "stdout",
       "text": [
        "     72       0.45266       \u001b[32m0.47988\u001b[0m      0.94328      0.75224  0.75s\n"
       ]
      },
      {
       "output_type": "stream",
       "stream": "stdout",
       "text": [
        "     73       0.45075       0.48213      0.93490      0.75407  0.75s\n"
       ]
      },
      {
       "output_type": "stream",
       "stream": "stdout",
       "text": [
        "     74       0.45476       0.48258      0.94233      0.74964  0.75s\n"
       ]
      },
      {
       "output_type": "stream",
       "stream": "stdout",
       "text": [
        "     75       0.45139       0.48634      0.92814      0.75224  0.75s\n"
       ]
      },
      {
       "output_type": "stream",
       "stream": "stdout",
       "text": [
        "     76       \u001b[36m0.44892\u001b[0m       0.48104      0.93324      0.75416  0.75s\n"
       ]
      },
      {
       "output_type": "stream",
       "stream": "stdout",
       "text": [
        "     77       \u001b[36m0.44784\u001b[0m       0.48100      0.93106      0.75233  0.75s\n"
       ]
      },
      {
       "output_type": "stream",
       "stream": "stdout",
       "text": [
        "     78       0.45659       0.48283      0.94566      0.74964  0.75s\n"
       ]
      },
      {
       "output_type": "stream",
       "stream": "stdout",
       "text": [
        "     79       \u001b[36m0.44495\u001b[0m       0.48133      0.92441      0.75320  0.75s\n"
       ]
      },
      {
       "output_type": "stream",
       "stream": "stdout",
       "text": [
        "     80       0.44831       0.48038      0.93325      0.75398  0.75s\n"
       ]
      },
      {
       "output_type": "stream",
       "stream": "stdout",
       "text": [
        "     81       0.44780       \u001b[32m0.47484\u001b[0m      0.94304      0.75617  0.75s\n"
       ]
      },
      {
       "output_type": "stream",
       "stream": "stdout",
       "text": [
        "     82       0.44947       0.47988      0.93665      0.75138  0.75s\n"
       ]
      },
      {
       "output_type": "stream",
       "stream": "stdout",
       "text": [
        "     83       \u001b[36m0.44391\u001b[0m       \u001b[32m0.47465\u001b[0m      0.93523      0.75712  0.75s\n"
       ]
      },
      {
       "output_type": "stream",
       "stream": "stdout",
       "text": [
        "     84       0.44530       0.48081      0.92614      0.75380  0.75s\n"
       ]
      },
      {
       "output_type": "stream",
       "stream": "stdout",
       "text": [
        "     85       0.44896       0.47993      0.93548      0.75129  0.75s\n"
       ]
      },
      {
       "output_type": "stream",
       "stream": "stdout",
       "text": [
        "     86       0.44729       0.47977      0.93231      0.75311  0.75s\n"
       ]
      },
      {
       "output_type": "stream",
       "stream": "stdout",
       "text": [
        "     87       0.44624       0.48203      0.92576      0.75138  0.75s\n"
       ]
      },
      {
       "output_type": "stream",
       "stream": "stdout",
       "text": [
        "     88       0.44971       0.48438      0.92842      0.75216  0.75s\n"
       ]
      },
      {
       "output_type": "stream",
       "stream": "stdout",
       "text": [
        "     89       0.44741       0.47802      0.93596      0.75503  0.75s\n"
       ]
      },
      {
       "output_type": "stream",
       "stream": "stdout",
       "text": [
        "     90       0.44879       0.47723      0.94041      0.75955  0.75s\n"
       ]
      },
      {
       "output_type": "stream",
       "stream": "stdout",
       "text": [
        "     91       0.44918       \u001b[32m0.47363\u001b[0m      0.94837      0.75668  0.75s\n"
       ]
      },
      {
       "output_type": "stream",
       "stream": "stdout",
       "text": [
        "     92       0.44690       0.47924      0.93252      0.75207  0.75s\n"
       ]
      },
      {
       "output_type": "stream",
       "stream": "stdout",
       "text": [
        "     93       0.44665       0.47596      0.93842      0.75311  0.75s\n"
       ]
      },
      {
       "output_type": "stream",
       "stream": "stdout",
       "text": [
        "     94       0.44612       0.47418      0.94082      0.75563  0.75s\n"
       ]
      },
      {
       "output_type": "stream",
       "stream": "stdout",
       "text": [
        "     95       0.44500       0.47811      0.93074      0.75772  0.75s\n"
       ]
      },
      {
       "output_type": "stream",
       "stream": "stdout",
       "text": [
        "     96       \u001b[36m0.44243\u001b[0m       0.47671      0.92810      0.76137  0.75s\n"
       ]
      },
      {
       "output_type": "stream",
       "stream": "stdout",
       "text": [
        "     97       0.44709       \u001b[32m0.47257\u001b[0m      0.94608      0.75868  0.75s\n"
       ]
      },
      {
       "output_type": "stream",
       "stream": "stdout",
       "text": [
        "     98       0.44353       0.47757      0.92871      0.75650  0.75s\n"
       ]
      },
      {
       "output_type": "stream",
       "stream": "stdout",
       "text": [
        "     99       0.44678       0.47605      0.93852      0.75590  0.75s\n"
       ]
      },
      {
       "output_type": "stream",
       "stream": "stdout",
       "text": [
        "    100       0.44324       0.47335      0.93638      0.76389  0.75s\n"
       ]
      },
      {
       "output_type": "stream",
       "stream": "stdout",
       "text": [
        "    101       0.44489       0.47545      0.93572      0.75554  0.75s\n"
       ]
      },
      {
       "output_type": "stream",
       "stream": "stdout",
       "text": [
        "    102       0.44264       0.47467      0.93253      0.75563  0.75s\n"
       ]
      },
      {
       "output_type": "stream",
       "stream": "stdout",
       "text": [
        "    103       \u001b[36m0.44133\u001b[0m       0.48388      0.91206      0.75650  0.75s\n"
       ]
      },
      {
       "output_type": "stream",
       "stream": "stdout",
       "text": [
        "    104       0.44510       \u001b[32m0.47234\u001b[0m      0.94232      0.76320  0.75s\n"
       ]
      },
      {
       "output_type": "stream",
       "stream": "stdout",
       "text": [
        "    105       0.44348       \u001b[32m0.46894\u001b[0m      0.94571      0.76137  0.75s\n"
       ]
      },
      {
       "output_type": "stream",
       "stream": "stdout",
       "text": [
        "    106       \u001b[36m0.44068\u001b[0m       0.46994      0.93774      0.76051  0.75s\n"
       ]
      },
      {
       "output_type": "stream",
       "stream": "stdout",
       "text": [
        "    107       0.44205       0.47033      0.93986      0.75955  0.75s\n"
       ]
      },
      {
       "output_type": "stream",
       "stream": "stdout",
       "text": [
        "    108       0.44126       0.47170      0.93547      0.76033  0.75s\n"
       ]
      },
      {
       "output_type": "stream",
       "stream": "stdout",
       "text": [
        "    109       0.44282       0.47243      0.93732      0.75841  0.75s\n"
       ]
      },
      {
       "output_type": "stream",
       "stream": "stdout",
       "text": [
        "    110       0.44183       0.47414      0.93187      0.75754  0.75s\n"
       ]
      },
      {
       "output_type": "stream",
       "stream": "stdout",
       "text": [
        "    111       0.44133       0.47230      0.93441      0.75955  0.75s\n"
       ]
      },
      {
       "output_type": "stream",
       "stream": "stdout",
       "text": [
        "    112       0.44151       0.47612      0.92730      0.75850  0.75s\n"
       ]
      },
      {
       "output_type": "stream",
       "stream": "stdout",
       "text": [
        "    113       0.44381       0.47243      0.93941      0.75676  0.75s\n"
       ]
      },
      {
       "output_type": "stream",
       "stream": "stdout",
       "text": [
        "    114       0.44712       0.47047      0.95037      0.76398  0.75s\n"
       ]
      },
      {
       "output_type": "stream",
       "stream": "stdout",
       "text": [
        "    115       0.44342       0.47465      0.93422      0.76206  0.75s\n"
       ]
      },
      {
       "output_type": "stream",
       "stream": "stdout",
       "text": [
        "    116       \u001b[36m0.43908\u001b[0m       0.47261      0.92905      0.76311  0.75s\n"
       ]
      },
      {
       "output_type": "stream",
       "stream": "stdout",
       "text": [
        "    117       0.43931       0.47452      0.92580      0.76051  0.75s\n"
       ]
      },
      {
       "output_type": "stream",
       "stream": "stdout",
       "text": [
        "    118       \u001b[36m0.43725\u001b[0m       0.47476      0.92099      0.75781  0.75s\n"
       ]
      },
      {
       "output_type": "stream",
       "stream": "stdout",
       "text": [
        "    119       0.44329       0.47562      0.93203      0.75919  0.75s\n"
       ]
      },
      {
       "output_type": "stream",
       "stream": "stdout",
       "text": [
        "    120       0.43872       0.47638      0.92094      0.75521  0.75s\n"
       ]
      },
      {
       "output_type": "stream",
       "stream": "stdout",
       "text": [
        "    121       0.43799       0.47826      0.91578      0.75859  0.75s\n"
       ]
      },
      {
       "output_type": "stream",
       "stream": "stdout",
       "text": [
        "    122       0.43877       0.47520      0.92334      0.76215  0.75s\n"
       ]
      },
      {
       "output_type": "stream",
       "stream": "stdout",
       "text": [
        "    123       0.44116       0.47685      0.92517      0.75850  0.75s\n"
       ]
      },
      {
       "output_type": "stream",
       "stream": "stdout",
       "text": [
        "    124       0.43998       \u001b[32m0.46845\u001b[0m      0.93923      0.76119  0.75s\n"
       ]
      },
      {
       "output_type": "stream",
       "stream": "stdout",
       "text": [
        "    125       0.44216       0.47361      0.93360      0.75599  0.75s\n"
       ]
      },
      {
       "output_type": "stream",
       "stream": "stdout",
       "text": [
        "    126       0.43917       0.47595      0.92272      0.75581  0.75s\n"
       ]
      },
      {
       "output_type": "stream",
       "stream": "stdout",
       "text": [
        "    127       0.43933       0.47197      0.93083      0.76224  0.75s\n"
       ]
      },
      {
       "output_type": "stream",
       "stream": "stdout",
       "text": [
        "    128       0.44143       0.47116      0.93690      0.76137  0.75s\n"
       ]
      },
      {
       "output_type": "stream",
       "stream": "stdout",
       "text": [
        "    129       0.43861       0.47360      0.92612      0.75937  0.75s\n"
       ]
      },
      {
       "output_type": "stream",
       "stream": "stdout",
       "text": [
        "    130       0.44024       0.47351      0.92974      0.76024  0.75s\n"
       ]
      },
      {
       "output_type": "stream",
       "stream": "stdout",
       "text": [
        "    131       0.44183       0.47233      0.93544      0.76215  0.75s\n"
       ]
      },
      {
       "output_type": "stream",
       "stream": "stdout",
       "text": [
        "    132       \u001b[36m0.43616\u001b[0m       0.47176      0.92454      0.76667  0.75s\n"
       ]
      },
      {
       "output_type": "stream",
       "stream": "stdout",
       "text": [
        "    133       0.43858       0.47264      0.92794      0.76485  0.75s\n"
       ]
      },
      {
       "output_type": "stream",
       "stream": "stdout",
       "text": [
        "    134       0.44270       0.46903      0.94386      0.76571  0.75s\n"
       ]
      },
      {
       "output_type": "stream",
       "stream": "stdout",
       "text": [
        "    135       0.43644       0.47134      0.92595      0.76754  0.75s\n"
       ]
      },
      {
       "output_type": "stream",
       "stream": "stdout",
       "text": [
        "    136       0.43736       0.47527      0.92022      0.76042  0.75s\n"
       ]
      },
      {
       "output_type": "stream",
       "stream": "stdout",
       "text": [
        "    137       \u001b[36m0.43546\u001b[0m       0.47552      0.91575      0.75763  0.75s\n"
       ]
      },
      {
       "output_type": "stream",
       "stream": "stdout",
       "text": [
        "    138       0.43875       0.47249      0.92860      0.76380  0.75s\n"
       ]
      },
      {
       "output_type": "stream",
       "stream": "stdout",
       "text": [
        "    139       0.43796       0.46979      0.93224      0.76823  0.75s\n"
       ]
      },
      {
       "output_type": "stream",
       "stream": "stdout",
       "text": [
        "    140       0.43884       0.46997      0.93375      0.76598  0.75s\n"
       ]
      },
      {
       "output_type": "stream",
       "stream": "stdout",
       "text": [
        "    141       0.43666       0.47168      0.92576      0.76476  0.75s\n"
       ]
      },
      {
       "output_type": "stream",
       "stream": "stdout",
       "text": [
        "    142       0.43825       0.46930      0.93384      0.76658  0.75s\n"
       ]
      },
      {
       "output_type": "stream",
       "stream": "stdout",
       "text": [
        "    143       0.43885       0.47296      0.92788      0.76467  0.75s\n"
       ]
      },
      {
       "output_type": "stream",
       "stream": "stdout",
       "text": [
        "    144       0.44012       0.46997      0.93648      0.76658  0.75s\n"
       ]
      },
      {
       "output_type": "stream",
       "stream": "stdout",
       "text": [
        "    145       0.43982       0.47206      0.93170      0.76928  0.75s\n"
       ]
      },
      {
       "output_type": "stream",
       "stream": "stdout",
       "text": [
        "    146       0.43834       0.46968      0.93327      0.76389  0.75s\n"
       ]
      },
      {
       "output_type": "stream",
       "stream": "stdout",
       "text": [
        "    147       0.43777       0.47197      0.92754      0.76215  0.75s\n"
       ]
      },
      {
       "output_type": "stream",
       "stream": "stdout",
       "text": [
        "    148       0.43661       0.47277      0.92352      0.76197  0.75s\n"
       ]
      },
      {
       "output_type": "stream",
       "stream": "stdout",
       "text": [
        "    149       0.43671       \u001b[32m0.46835\u001b[0m      0.93244      0.76946  0.75s\n"
       ]
      },
      {
       "output_type": "stream",
       "stream": "stdout",
       "text": [
        "    150       0.43966       0.47076      0.93394      0.76128  0.75s\n"
       ]
      },
      {
       "output_type": "stream",
       "stream": "stdout",
       "text": [
        "    151       0.43722       0.46967      0.93091      0.77110  0.75s\n"
       ]
      },
      {
       "output_type": "stream",
       "stream": "stdout",
       "text": [
        "    152       0.43669       0.46896      0.93119      0.77023  0.75s\n"
       ]
      },
      {
       "output_type": "stream",
       "stream": "stdout",
       "text": [
        "    153       \u001b[36m0.43510\u001b[0m       \u001b[32m0.46681\u001b[0m      0.93206      0.77215  0.75s\n"
       ]
      },
      {
       "output_type": "stream",
       "stream": "stdout",
       "text": [
        "    154       0.43660       \u001b[32m0.46632\u001b[0m      0.93625      0.77311  0.75s\n"
       ]
      },
      {
       "output_type": "stream",
       "stream": "stdout",
       "text": [
        "    155       0.43580       0.46989      0.92744      0.76772  0.75s\n"
       ]
      },
      {
       "output_type": "stream",
       "stream": "stdout",
       "text": [
        "    156       \u001b[36m0.43448\u001b[0m       0.46988      0.92467      0.76946  0.75s\n"
       ]
      },
      {
       "output_type": "stream",
       "stream": "stdout",
       "text": [
        "    157       0.43947       0.46988      0.93529      0.77197  0.75s\n"
       ]
      },
      {
       "output_type": "stream",
       "stream": "stdout",
       "text": [
        "    158       0.43508       0.46942      0.92684      0.77119  0.75s\n"
       ]
      },
      {
       "output_type": "stream",
       "stream": "stdout",
       "text": [
        "    159       \u001b[36m0.43412\u001b[0m       0.47096      0.92177      0.77128  0.75s\n"
       ]
      },
      {
       "output_type": "stream",
       "stream": "stdout",
       "text": [
        "    160       \u001b[36m0.43158\u001b[0m       0.47275      0.91292      0.76937  0.75s\n"
       ]
      },
      {
       "output_type": "stream",
       "stream": "stdout",
       "text": [
        "    161       0.43517       0.47453      0.91706      0.76503  0.75s\n"
       ]
      },
      {
       "output_type": "stream",
       "stream": "stdout",
       "text": [
        "    162       0.43375       0.46929      0.92427      0.76955  0.75s\n"
       ]
      },
      {
       "output_type": "stream",
       "stream": "stdout",
       "text": [
        "    163       0.43402       0.47119      0.92112      0.77119  0.75s\n"
       ]
      },
      {
       "output_type": "stream",
       "stream": "stdout",
       "text": [
        "    164       0.43286       0.47332      0.91452      0.76494  0.75s\n"
       ]
      },
      {
       "output_type": "stream",
       "stream": "stdout",
       "text": [
        "    165       0.43467       0.47132      0.92223      0.76877  0.75s\n"
       ]
      },
      {
       "output_type": "stream",
       "stream": "stdout",
       "text": [
        "    166       0.43424       0.47299      0.91806      0.76485  0.75s\n"
       ]
      },
      {
       "output_type": "stream",
       "stream": "stdout",
       "text": [
        "    167       0.43417       0.47328      0.91738      0.76589  0.75s\n"
       ]
      },
      {
       "output_type": "stream",
       "stream": "stdout",
       "text": [
        "    168       0.43367       0.47013      0.92245      0.77146  0.75s\n"
       ]
      },
      {
       "output_type": "stream",
       "stream": "stdout",
       "text": [
        "    169       0.43294       0.46784      0.92540      0.77146  0.75s\n"
       ]
      },
      {
       "output_type": "stream",
       "stream": "stdout",
       "text": [
        "    170       0.43332       0.47118      0.91966      0.76859  0.75s\n"
       ]
      },
      {
       "output_type": "stream",
       "stream": "stdout",
       "text": [
        "    171       0.43337       0.47300      0.91622      0.76685  0.75s\n"
       ]
      },
      {
       "output_type": "stream",
       "stream": "stdout",
       "text": [
        "    172       0.43458       0.47520      0.91453      0.76512  0.75s\n"
       ]
      },
      {
       "output_type": "stream",
       "stream": "stdout",
       "text": [
        "    173       0.43310       0.47413      0.91345      0.76955  0.75s\n"
       ]
      },
      {
       "output_type": "stream",
       "stream": "stdout",
       "text": [
        "    174       0.43398       0.47112      0.92118      0.76868  0.75s\n"
       ]
      },
      {
       "output_type": "stream",
       "stream": "stdout",
       "text": [
        "    175       0.43409       0.46991      0.92378      0.76955  0.75s\n"
       ]
      },
      {
       "output_type": "stream",
       "stream": "stdout",
       "text": [
        "    176       \u001b[36m0.42897\u001b[0m       0.47456      0.90393      0.76667  0.75s\n"
       ]
      },
      {
       "output_type": "stream",
       "stream": "stdout",
       "text": [
        "    177       0.43340       0.46856      0.92495      0.76964  0.75s\n"
       ]
      },
      {
       "output_type": "stream",
       "stream": "stdout",
       "text": [
        "    178       0.43253       0.46890      0.92243      0.76946  0.75s\n"
       ]
      },
      {
       "output_type": "stream",
       "stream": "stdout",
       "text": [
        "    179       0.43235       0.46953      0.92081      0.77329  0.75s\n"
       ]
      },
      {
       "output_type": "stream",
       "stream": "stdout",
       "text": [
        "    180       0.43521       0.47212      0.92182      0.76763  0.75s\n"
       ]
      },
      {
       "output_type": "stream",
       "stream": "stdout",
       "text": [
        "    181       0.43560       0.46719      0.93239      0.77146  0.75s\n"
       ]
      },
      {
       "output_type": "stream",
       "stream": "stdout",
       "text": [
        "    182       0.42958       0.47139      0.91131      0.77320  0.75s\n"
       ]
      },
      {
       "output_type": "stream",
       "stream": "stdout",
       "text": [
        "    183       \u001b[36m0.42848\u001b[0m       0.47302      0.90584      0.77398  0.75s\n"
       ]
      },
      {
       "output_type": "stream",
       "stream": "stdout",
       "text": [
        "    184       0.43527       0.47187      0.92244      0.77484  0.75s\n"
       ]
      },
      {
       "output_type": "stream",
       "stream": "stdout",
       "text": [
        "    185       0.43220       0.46958      0.92039      0.77146  0.75s\n"
       ]
      },
      {
       "output_type": "stream",
       "stream": "stdout",
       "text": [
        "    186       \u001b[36m0.42838\u001b[0m       0.47094      0.90964      0.77416  0.75s\n"
       ]
      },
      {
       "output_type": "stream",
       "stream": "stdout",
       "text": [
        "    187       0.43231       0.47239      0.91515      0.77155  0.75s\n"
       ]
      },
      {
       "output_type": "stream",
       "stream": "stdout",
       "text": [
        "    188       0.43182       0.47219      0.91449      0.77311  0.75s\n"
       ]
      },
      {
       "output_type": "stream",
       "stream": "stdout",
       "text": [
        "    189       0.43097       0.46898      0.91897      0.77155  0.75s\n"
       ]
      },
      {
       "output_type": "stream",
       "stream": "stdout",
       "text": [
        "    190       \u001b[36m0.42627\u001b[0m       0.47109      0.90484      0.77146  0.75s\n"
       ]
      },
      {
       "output_type": "stream",
       "stream": "stdout",
       "text": [
        "    191       0.42934       0.46929      0.91486      0.77416  0.75s\n"
       ]
      },
      {
       "output_type": "stream",
       "stream": "stdout",
       "text": [
        "    192       0.43050       0.47299      0.91017      0.77041  0.75s\n"
       ]
      },
      {
       "output_type": "stream",
       "stream": "stdout",
       "text": [
        "    193       0.42772       0.47060      0.90887      0.77215  0.75s\n"
       ]
      },
      {
       "output_type": "stream",
       "stream": "stdout",
       "text": [
        "    194       0.42889       0.46903      0.91441      0.77320  0.75s\n"
       ]
      },
      {
       "output_type": "stream",
       "stream": "stdout",
       "text": [
        "    195       0.42995       0.47035      0.91412      0.77233  0.75s\n"
       ]
      },
      {
       "output_type": "stream",
       "stream": "stdout",
       "text": [
        "    196       0.42917       0.46830      0.91645      0.77224  0.75s\n"
       ]
      },
      {
       "output_type": "stream",
       "stream": "stdout",
       "text": [
        "    197       0.42934       0.46951      0.91444      0.77416  0.75s\n"
       ]
      },
      {
       "output_type": "stream",
       "stream": "stdout",
       "text": [
        "    198       0.43099       0.46705      0.92280      0.77320  0.75s\n"
       ]
      },
      {
       "output_type": "stream",
       "stream": "stdout",
       "text": [
        "    199       0.42864       0.47295      0.90631      0.77407  0.75s\n"
       ]
      },
      {
       "output_type": "stream",
       "stream": "stdout",
       "text": [
        "    200       0.42821       0.47303      0.90525      0.77137  0.75s\n"
       ]
      },
      {
       "output_type": "stream",
       "stream": "stdout",
       "text": [
        "    201       0.43201       0.47187      0.91553      0.77416  0.75s\n"
       ]
      },
      {
       "output_type": "stream",
       "stream": "stdout",
       "text": [
        "    202       0.43117       0.47005      0.91728      0.77059  0.75s\n"
       ]
      },
      {
       "output_type": "stream",
       "stream": "stdout",
       "text": [
        "    203       \u001b[36m0.42493\u001b[0m       0.47060      0.90297      0.77233  0.75s\n"
       ]
      },
      {
       "output_type": "stream",
       "stream": "stdout",
       "text": [
        "    204       \u001b[36m0.42398\u001b[0m       0.47046      0.90120      0.77137  0.75s\n"
       ]
      },
      {
       "output_type": "stream",
       "stream": "stdout",
       "text": [
        "    205       0.42545       0.47206      0.90128      0.76955  0.75s\n"
       ]
      },
      {
       "output_type": "stream",
       "stream": "stdout",
       "text": [
        "    206       \u001b[36m0.42342\u001b[0m       0.47265      0.89584      0.77041  0.75s\n"
       ]
      },
      {
       "output_type": "stream",
       "stream": "stdout",
       "text": [
        "    207       0.42864       0.47441      0.90352      0.77224  0.75s\n"
       ]
      },
      {
       "output_type": "stream",
       "stream": "stdout",
       "text": [
        "    208       0.42590       0.46954      0.90707      0.77146  0.75s\n"
       ]
      },
      {
       "output_type": "stream",
       "stream": "stdout",
       "text": [
        "    209       0.42380       0.46979      0.90210      0.77224  0.75s\n"
       ]
      },
      {
       "output_type": "stream",
       "stream": "stdout",
       "text": [
        "    210       0.42657       0.47207      0.90361      0.77320  0.75s\n"
       ]
      },
      {
       "output_type": "stream",
       "stream": "stdout",
       "text": [
        "    211       \u001b[36m0.42324\u001b[0m       0.47248      0.89579      0.77224  0.75s\n"
       ]
      },
      {
       "output_type": "stream",
       "stream": "stdout",
       "text": [
        "    212       0.42595       0.47062      0.90509      0.77320  0.75s\n"
       ]
      },
      {
       "output_type": "stream",
       "stream": "stdout",
       "text": [
        "    213       0.42694       0.47057      0.90729      0.77146  0.75s\n"
       ]
      },
      {
       "output_type": "stream",
       "stream": "stdout",
       "text": [
        "    214       0.43013       0.47230      0.91071      0.77224  0.75s\n"
       ]
      },
      {
       "output_type": "stream",
       "stream": "stdout",
       "text": [
        "    215       0.42524       0.47191      0.90110      0.77224  0.75s\n"
       ]
      },
      {
       "output_type": "stream",
       "stream": "stdout",
       "text": [
        "    216       0.42518       0.47312      0.89867      0.76964  0.75s\n"
       ]
      },
      {
       "output_type": "stream",
       "stream": "stdout",
       "text": [
        "    217       0.42991       0.47222      0.91040      0.76955  0.75s\n"
       ]
      },
      {
       "output_type": "stream",
       "stream": "stdout",
       "text": [
        "    218       0.42770       0.47221      0.90573      0.77041  0.75s\n"
       ]
      },
      {
       "output_type": "stream",
       "stream": "stdout",
       "text": [
        "    219       0.42593       0.47349      0.89956      0.77032  0.75s\n"
       ]
      },
      {
       "output_type": "stream",
       "stream": "stdout",
       "text": [
        "    220       0.42743       0.46940      0.91060      0.77137  0.75s\n"
       ]
      },
      {
       "output_type": "stream",
       "stream": "stdout",
       "text": [
        "    221       0.42925       0.47171      0.90998      0.77233  0.75s\n"
       ]
      },
      {
       "output_type": "stream",
       "stream": "stdout",
       "text": [
        "    222       0.42846       0.47318      0.90549      0.77416  0.75s\n"
       ]
      },
      {
       "output_type": "stream",
       "stream": "stdout",
       "text": [
        "    223       \u001b[36m0.42064\u001b[0m       0.47443      0.88663      0.77224  0.75s\n"
       ]
      },
      {
       "output_type": "stream",
       "stream": "stdout",
       "text": [
        "    224       0.42289       0.47407      0.89203      0.77389  0.75s\n"
       ]
      },
      {
       "output_type": "stream",
       "stream": "stdout",
       "text": [
        "    225       0.42534       0.47355      0.89818      0.77128  0.75s\n"
       ]
      },
      {
       "output_type": "stream",
       "stream": "stdout",
       "text": [
        "    226       0.42371       0.47386      0.89417      0.77233  0.75s\n"
       ]
      },
      {
       "output_type": "stream",
       "stream": "stdout",
       "text": [
        "    227       0.42472       0.47653      0.89127      0.77398  0.75s\n"
       ]
      },
      {
       "output_type": "stream",
       "stream": "stdout",
       "text": [
        "    228       0.42298       0.47379      0.89277      0.77146  0.75s\n"
       ]
      },
      {
       "output_type": "stream",
       "stream": "stdout",
       "text": [
        "    229       0.42897       0.46853      0.91557      0.77781  0.75s\n"
       ]
      },
      {
       "output_type": "stream",
       "stream": "stdout",
       "text": [
        "    230       0.42522       0.47434      0.89644      0.77137  0.75s\n"
       ]
      },
      {
       "output_type": "stream",
       "stream": "stdout",
       "text": [
        "    231       0.42243       0.47051      0.89782      0.77059  0.75s\n"
       ]
      },
      {
       "output_type": "stream",
       "stream": "stdout",
       "text": [
        "    232       0.42211       0.46920      0.89964      0.77667  0.75s\n"
       ]
      },
      {
       "output_type": "stream",
       "stream": "stdout",
       "text": [
        "    233       0.42530       0.47289      0.89936      0.77050  0.75s\n"
       ]
      },
      {
       "output_type": "stream",
       "stream": "stdout",
       "text": [
        "    234       0.42312       0.47006      0.90013      0.77320  0.75s\n"
       ]
      },
      {
       "output_type": "stream",
       "stream": "stdout",
       "text": [
        "    235       0.42137       0.47293      0.89098      0.77425  0.75s\n"
       ]
      },
      {
       "output_type": "stream",
       "stream": "stdout",
       "text": [
        "    236       0.42214       0.47150      0.89533      0.77320  0.75s\n"
       ]
      },
      {
       "output_type": "stream",
       "stream": "stdout",
       "text": [
        "    237       0.42230       0.47482      0.88939      0.77311  0.75s\n"
       ]
      },
      {
       "output_type": "stream",
       "stream": "stdout",
       "text": [
        "    238       0.42473       0.47736      0.88976      0.76955  0.75s\n"
       ]
      },
      {
       "output_type": "stream",
       "stream": "stdout",
       "text": [
        "    239       0.42601       0.47243      0.90175      0.77050  0.75s\n"
       ]
      },
      {
       "output_type": "stream",
       "stream": "stdout",
       "text": [
        "    240       0.42192       0.47471      0.88880      0.77407  0.75s\n"
       ]
      },
      {
       "output_type": "stream",
       "stream": "stdout",
       "text": [
        "    241       0.42117       0.47652      0.88383      0.77068  0.75s\n"
       ]
      },
      {
       "output_type": "stream",
       "stream": "stdout",
       "text": [
        "    242       \u001b[36m0.41691\u001b[0m       0.47418      0.87924      0.77502  0.75s\n"
       ]
      },
      {
       "output_type": "stream",
       "stream": "stdout",
       "text": [
        "    243       0.42324       0.47524      0.89057      0.77224  0.75s\n"
       ]
      },
      {
       "output_type": "stream",
       "stream": "stdout",
       "text": [
        "    244       0.42479       0.47215      0.89969      0.77329  0.75s\n"
       ]
      },
      {
       "output_type": "stream",
       "stream": "stdout",
       "text": [
        "    245       0.42131       0.47196      0.89266      0.77416  0.75s\n"
       ]
      },
      {
       "output_type": "stream",
       "stream": "stdout",
       "text": [
        "    246       0.41762       0.47541      0.87844      0.76955  0.75s\n"
       ]
      },
      {
       "output_type": "stream",
       "stream": "stdout",
       "text": [
        "    247       0.42265       0.47399      0.89169      0.77137  0.75s\n"
       ]
      },
      {
       "output_type": "stream",
       "stream": "stdout",
       "text": [
        "    248       0.42433       0.47192      0.89915      0.77511  0.75s\n"
       ]
      },
      {
       "output_type": "stream",
       "stream": "stdout",
       "text": [
        "    249       0.42551       0.47212      0.90128      0.77302  0.75s\n"
       ]
      },
      {
       "output_type": "stream",
       "stream": "stdout",
       "text": [
        "    250       \u001b[36m0.41522\u001b[0m       0.47329      0.87730      0.77128  0.75s\n"
       ]
      },
      {
       "output_type": "stream",
       "stream": "stdout",
       "text": [
        "    251       0.41817       0.47327      0.88358      0.77068  0.75s\n"
       ]
      },
      {
       "output_type": "stream",
       "stream": "stdout",
       "text": [
        "    252       0.41973       0.47532      0.88305      0.76904  0.75s\n"
       ]
      },
      {
       "output_type": "stream",
       "stream": "stdout",
       "text": [
        "    253       0.41843       0.47650      0.87812      0.77425  0.75s\n"
       ]
      },
      {
       "output_type": "stream",
       "stream": "stdout",
       "text": [
        "    254       0.41886       0.47599      0.87997      0.77041  0.75s\n"
       ]
      },
      {
       "output_type": "stream",
       "stream": "stdout",
       "text": [
        "    255       0.42074       0.47652      0.88293      0.76452  0.75s\n"
       ]
      },
      {
       "output_type": "stream",
       "stream": "stdout",
       "text": [
        "    256       0.41746       0.47760      0.87407      0.77329  0.75s\n"
       ]
      },
      {
       "output_type": "stream",
       "stream": "stdout",
       "text": [
        "    257       0.41692       0.47518      0.87738      0.77059  0.75s\n"
       ]
      },
      {
       "output_type": "stream",
       "stream": "stdout",
       "text": [
        "    258       0.41997       0.47557      0.88309      0.76964  0.75s\n"
       ]
      },
      {
       "output_type": "stream",
       "stream": "stdout",
       "text": [
        "    259       0.42261       0.47065      0.89791      0.77329  0.75s\n"
       ]
      },
      {
       "output_type": "stream",
       "stream": "stdout",
       "text": [
        "    260       0.41727       0.47452      0.87935      0.76886  0.75s\n"
       ]
      },
      {
       "output_type": "stream",
       "stream": "stdout",
       "text": [
        "    261       0.41861       0.47237      0.88619      0.76877  0.75s\n"
       ]
      },
      {
       "output_type": "stream",
       "stream": "stdout",
       "text": [
        "    262       0.41772       0.47389      0.88146      0.77320  0.75s\n"
       ]
      },
      {
       "output_type": "stream",
       "stream": "stdout",
       "text": [
        "    263       0.41687       0.47671      0.87446      0.77320  0.75s\n"
       ]
      },
      {
       "output_type": "stream",
       "stream": "stdout",
       "text": [
        "    264       0.42089       0.47347      0.88895      0.77502  0.75s\n"
       ]
      },
      {
       "output_type": "stream",
       "stream": "stdout",
       "text": [
        "    265       0.42185       0.47203      0.89370      0.77329  0.75s\n"
       ]
      },
      {
       "output_type": "stream",
       "stream": "stdout",
       "text": [
        "    266       0.41663       0.47559      0.87601      0.76868  0.75s\n"
       ]
      },
      {
       "output_type": "stream",
       "stream": "stdout",
       "text": [
        "    267       0.41727       0.47181      0.88440      0.77511  0.75s\n"
       ]
      },
      {
       "output_type": "stream",
       "stream": "stdout",
       "text": [
        "    268       0.42081       0.47339      0.88893      0.77676  0.75s\n"
       ]
      },
      {
       "output_type": "stream",
       "stream": "stdout",
       "text": [
        "    269       \u001b[36m0.41503\u001b[0m       0.47779      0.86865      0.77146  0.75s\n"
       ]
      },
      {
       "output_type": "stream",
       "stream": "stdout",
       "text": [
        "    270       \u001b[36m0.41035\u001b[0m       0.47716      0.85998      0.77694  0.75s\n"
       ]
      },
      {
       "output_type": "stream",
       "stream": "stdout",
       "text": [
        "    271       0.41989       0.47660      0.88102      0.76808  0.75s\n"
       ]
      },
      {
       "output_type": "stream",
       "stream": "stdout",
       "text": [
        "    272       0.41829       0.47933      0.87266      0.76790  0.75s\n"
       ]
      },
      {
       "output_type": "stream",
       "stream": "stdout",
       "text": [
        "    273       0.41399       0.47522      0.87116      0.77137  0.75s\n"
       ]
      },
      {
       "output_type": "stream",
       "stream": "stdout",
       "text": [
        "    274       0.41768       0.47505      0.87922      0.77311  0.75s\n"
       ]
      },
      {
       "output_type": "stream",
       "stream": "stdout",
       "text": [
        "    275       0.41460       0.47600      0.87101      0.77050  0.75s\n"
       ]
      },
      {
       "output_type": "stream",
       "stream": "stdout",
       "text": [
        "    276       0.41300       0.47634      0.86703      0.77493  0.75s\n"
       ]
      },
      {
       "output_type": "stream",
       "stream": "stdout",
       "text": [
        "    277       0.41487       0.47695      0.86983      0.77407  0.75s\n"
       ]
      },
      {
       "output_type": "stream",
       "stream": "stdout",
       "text": [
        "    278       0.41769       0.47712      0.87544      0.76616  0.75s\n"
       ]
      },
      {
       "output_type": "stream",
       "stream": "stdout",
       "text": [
        "    279       0.41415       0.47295      0.87566      0.77155  0.75s\n"
       ]
      },
      {
       "output_type": "stream",
       "stream": "stdout",
       "text": [
        "    280       0.41527       0.47414      0.87585      0.76877  0.75s\n"
       ]
      },
      {
       "output_type": "stream",
       "stream": "stdout",
       "text": [
        "    281       0.41672       0.47685      0.87389      0.76799  0.75s\n"
       ]
      },
      {
       "output_type": "stream",
       "stream": "stdout",
       "text": [
        "    282       0.41391       0.47405      0.87315      0.77164  0.75s\n"
       ]
      },
      {
       "output_type": "stream",
       "stream": "stdout",
       "text": [
        "    283       0.41713       0.47775      0.87310      0.77059  0.75s\n"
       ]
      },
      {
       "output_type": "stream",
       "stream": "stdout",
       "text": [
        "    284       0.41534       0.47721      0.87034      0.77000  0.75s\n"
       ]
      },
      {
       "output_type": "stream",
       "stream": "stdout",
       "text": [
        "    285       0.41309       0.47965      0.86123      0.76799  0.75s\n"
       ]
      },
      {
       "output_type": "stream",
       "stream": "stdout",
       "text": [
        "    286       0.41382       0.47332      0.87428      0.77242  0.75s\n"
       ]
      },
      {
       "output_type": "stream",
       "stream": "stdout",
       "text": [
        "    287       0.41706       0.47709      0.87417      0.76964  0.75s\n"
       ]
      },
      {
       "output_type": "stream",
       "stream": "stdout",
       "text": [
        "    288       0.41277       0.47900      0.86175      0.76598  0.75s\n"
       ]
      },
      {
       "output_type": "stream",
       "stream": "stdout",
       "text": [
        "    289       0.41180       0.47855      0.86053      0.76521  0.75s\n"
       ]
      },
      {
       "output_type": "stream",
       "stream": "stdout",
       "text": [
        "    290       0.41395       0.47298      0.87518      0.77320  0.75s\n"
       ]
      },
      {
       "output_type": "stream",
       "stream": "stdout",
       "text": [
        "    291       0.41688       0.47867      0.87093      0.76781  0.75s\n"
       ]
      },
      {
       "output_type": "stream",
       "stream": "stdout",
       "text": [
        "    292       \u001b[36m0.41006\u001b[0m       0.47882      0.85641      0.77173  0.75s\n"
       ]
      },
      {
       "output_type": "stream",
       "stream": "stdout",
       "text": [
        "    293       0.41193       0.47891      0.86014      0.76859  0.75s\n"
       ]
      },
      {
       "output_type": "stream",
       "stream": "stdout",
       "text": [
        "    294       0.41249       0.48124      0.85715      0.76712  0.75s\n"
       ]
      },
      {
       "output_type": "stream",
       "stream": "stdout",
       "text": [
        "    295       0.41204       0.47883      0.86051      0.77164  0.75s\n"
       ]
      },
      {
       "output_type": "stream",
       "stream": "stdout",
       "text": [
        "    296       \u001b[36m0.40894\u001b[0m       0.47986      0.85221      0.76886  0.75s\n"
       ]
      },
      {
       "output_type": "stream",
       "stream": "stdout",
       "text": [
        "    297       \u001b[36m0.40599\u001b[0m       0.48368      0.83939      0.76694  0.75s\n"
       ]
      },
      {
       "output_type": "stream",
       "stream": "stdout",
       "text": [
        "    298       0.41464       0.47527      0.87241      0.77137  0.75s\n"
       ]
      },
      {
       "output_type": "stream",
       "stream": "stdout",
       "text": [
        "    299       0.41305       0.47598      0.86778      0.76703  0.75s\n"
       ]
      },
      {
       "output_type": "stream",
       "stream": "stdout",
       "text": [
        "    300       0.41100       0.47908      0.85789      0.77155  0.75s\n"
       ]
      },
      {
       "output_type": "stream",
       "stream": "stdout",
       "text": [
        "    301       0.41220       0.48199      0.85520      0.76069  0.75s\n"
       ]
      }
     ],
     "prompt_number": 32
    },
    {
     "cell_type": "code",
     "collapsed": false,
     "input": [
      "from nolearn.lasagne.visualize import plot_loss\n",
      "plot_loss(net1)"
     ],
     "language": "python",
     "metadata": {},
     "outputs": [
      {
       "metadata": {},
       "output_type": "display_data",
       "png": "[encoded data removed]",
       "text": [
        "<matplotlib.figure.Figure at 0x7f79a669ed50>"
       ]
      }
     ],
     "prompt_number": 34
    },
    {
     "cell_type": "code",
     "collapsed": false,
     "input": [],
     "language": "python",
     "metadata": {},
     "outputs": []
    }
   ],
   "metadata": {}
  }
 ]
}