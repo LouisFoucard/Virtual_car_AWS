{
 "metadata": {
  "name": ""
 },
 "nbformat": 3,
 "nbformat_minor": 0,
 "worksheets": [
  {
   "cells": [
    {
     "cell_type": "code",
     "collapsed": false,
     "input": [
      "import matplotlib\n",
      "import matplotlib.pyplot as plt\n",
      "import matplotlib.cm as cm\n",
      "from PIL import Image\n",
      "from urllib import urlretrieve\n",
      "import cPickle as pickle\n",
      "import os\n",
      "import gzip\n",
      "import numpy as np\n",
      "import theano\n",
      "import lasagne\n",
      "from lasagne import layers\n",
      "from lasagne.updates import nesterov_momentum\n",
      "from nolearn.lasagne import NeuralNet\n",
      "from nolearn.lasagne import visualize\n",
      "from sklearn.metrics import classification_report\n",
      "from sklearn.metrics import confusion_matrix\n",
      "%matplotlib inline"
     ],
     "language": "python",
     "metadata": {},
     "outputs": [
      {
       "output_type": "stream",
       "stream": "stderr",
       "text": [
        "Using gpu device 0: GRID K520 (CNMeM is disabled)\n"
       ]
      }
     ],
     "prompt_number": 1
    },
    {
     "cell_type": "code",
     "collapsed": false,
     "input": [
      "def load_dataset():\n",
      "    \n",
      "        \n",
      "    fIm = open('/home/ubuntu/images3.p', 'r')\n",
      "    fIn = open('/home/ubuntu/inputs3.p', 'r')\n",
      "    X_train = pickle.load(fIm)/255.\n",
      "    y_train = pickle.load(fIn)\n",
      "    \n",
      "    H = X_train.shape[1]\n",
      "    W = X_train.shape[2]\n",
      "    ch = X_train.shape[3]\n",
      "    \n",
      "    X_train = X_train.reshape(-1,ch,H,W)\n",
      "    X_train = X_train.astype(np.float32)\n",
      "    y_train = y_train.astype(np.uint8)\n",
      "    \n",
      "    return X_train, y_train, H, W, ch\n",
      "\n",
      "def deprocess(x):\n",
      "    \n",
      "    x = x.reshape(H,W)\n",
      "    #x = x*255\n",
      "    #x = np.clip(x, 0, 255).astype('uint8')\n",
      "    return x"
     ],
     "language": "python",
     "metadata": {},
     "outputs": [],
     "prompt_number": 5
    },
    {
     "cell_type": "code",
     "collapsed": false,
     "input": [
      "X_train, y_train, H, W, ch = load_dataset()"
     ],
     "language": "python",
     "metadata": {},
     "outputs": [],
     "prompt_number": 6
    },
    {
     "cell_type": "code",
     "collapsed": false,
     "input": [
      "y_train2 = np.zeros(X_train.shape[0])\n",
      "n = -1\n",
      "for i in y_train:\n",
      "    n += 1\n",
      "    if i[2]==1:\n",
      "        y_train2[n] = 0\n",
      "    if i[3]==1:\n",
      "        y_train2[n] = 1\n",
      "    if i[2]==0 and i[3] == 0:\n",
      "        y_train2[n] = 2\n",
      "y_train2 = y_train2.astype('uint8')"
     ],
     "language": "python",
     "metadata": {},
     "outputs": [],
     "prompt_number": 7
    },
    {
     "cell_type": "code",
     "collapsed": false,
     "input": [
      "print 'X type and shape:', X_train.dtype, X_train.shape\n",
      "print 'X.min():', X_train.min()\n",
      "print 'X.max():', X_train.max()\n",
      "print 'y type and shape:', y_train2.dtype, y_train2.shape\n",
      "print 'y.min():', y_train2.min()\n",
      "print 'y.max():', y_train2.max()"
     ],
     "language": "python",
     "metadata": {},
     "outputs": [
      {
       "output_type": "stream",
       "stream": "stdout",
       "text": [
        "X type and shape: float32 (5699, 1, 22, 75)\n",
        "X.min(): 0.0\n",
        "X.max(): 1.0\n",
        "y type and shape: uint8 (5699,)\n",
        "y.min(): 0\n",
        "y.max(): 2\n"
       ]
      }
     ],
     "prompt_number": 8
    },
    {
     "cell_type": "code",
     "collapsed": false,
     "input": [
      "plt.imshow(deprocess(X_train[312]))\n",
      "y_train2[312]"
     ],
     "language": "python",
     "metadata": {},
     "outputs": [
      {
       "metadata": {},
       "output_type": "pyout",
       "prompt_number": 26,
       "text": [
        "1"
       ]
      },
      {
       "metadata": {},
       "output_type": "display_data",
       "png": "[encoded data removed]",
       "text": [
        "<matplotlib.figure.Figure at 0x7f79ade4de10>"
       ]
      }
     ],
     "prompt_number": 26
    },
    {
     "cell_type": "code",
     "collapsed": false,
     "input": [
      "net1 = NeuralNet(\n",
      "    layers=[('input', layers.InputLayer),\n",
      "            ('conv2d1', layers.Conv2DLayer),\n",
      "            ('maxpool1', layers.MaxPool2DLayer),\n",
      "            ('conv2d2', layers.Conv2DLayer),\n",
      "            ('maxpool2', layers.MaxPool2DLayer),\n",
      "            ('dropout1', layers.DropoutLayer),\n",
      "            ('dense', layers.DenseLayer),\n",
      "            ('dropout2', layers.DropoutLayer),\n",
      "            ('output', layers.DenseLayer),\n",
      "            ],\n",
      "    # input layer\n",
      "    input_shape=(None, ch, H, W),\n",
      "    # layer conv2d1\n",
      "    conv2d1_num_filters=32,\n",
      "    conv2d1_filter_size=(5, 5),\n",
      "    conv2d1_nonlinearity=lasagne.nonlinearities.rectify,\n",
      "    conv2d1_W=lasagne.init.GlorotUniform(),  \n",
      "    # layer maxpool1\n",
      "    maxpool1_pool_size=(2, 2),    \n",
      "    # layer conv2d2\n",
      "    conv2d2_num_filters=64,\n",
      "    conv2d2_filter_size=(3, 3),\n",
      "    conv2d2_nonlinearity=lasagne.nonlinearities.rectify,\n",
      "    # layer maxpool2\n",
      "    maxpool2_pool_size=(2, 2),\n",
      "    # dropout1\n",
      "    dropout1_p=0.5,    \n",
      "    # dense\n",
      "    dense_num_units=128,\n",
      "    dense_nonlinearity=lasagne.nonlinearities.rectify,    \n",
      "    # dropout2\n",
      "    dropout2_p=0.5,    \n",
      "    # output\n",
      "    output_nonlinearity=lasagne.nonlinearities.softmax,\n",
      "    output_num_units=3,\n",
      "    # optimization method params\n",
      "    update=nesterov_momentum,\n",
      "    update_learning_rate=0.01,\n",
      "    update_momentum=0.9,\n",
      "    max_epochs=500,\n",
      "    verbose=1,\n",
      "    )"
     ],
     "language": "python",
     "metadata": {},
     "outputs": [],
     "prompt_number": 29
    },
    {
     "cell_type": "code",
     "collapsed": false,
     "input": [
      "nn = net1.fit(X_train, y_train2)"
     ],
     "language": "python",
     "metadata": {},
     "outputs": [
      {
       "output_type": "stream",
       "stream": "stdout",
       "text": [
        "# Neural Network with 23923459 learnable parameters\n",
        "\n",
        "## Layer information\n",
        "\n",
        "  #  name      size\n",
        "---  --------  ---------\n",
        "  0  input     1x22x75\n",
        "  1  conv2d1   256x20x73\n",
        "  2  dropout1  256x20x73\n",
        "  3  dense     64\n",
        "  4  dropout2  64\n",
        "  5  output    3\n",
        "\n"
       ]
      },
      {
       "output_type": "stream",
       "stream": "stdout",
       "text": [
        "  epoch    train loss    valid loss    train/val    valid acc  dur\n",
        "-------  ------------  ------------  -----------  -----------  -----\n",
        "      1       \u001b[36m0.84977\u001b[0m       \u001b[32m0.65876\u001b[0m      1.28995      0.70100  4.20s\n"
       ]
      },
      {
       "output_type": "stream",
       "stream": "stdout",
       "text": [
        "      2       \u001b[36m0.61880\u001b[0m       \u001b[32m0.53421\u001b[0m      1.15834      0.77140  4.21s\n"
       ]
      },
      {
       "output_type": "stream",
       "stream": "stdout",
       "text": [
        "      3       \u001b[36m0.58537\u001b[0m       0.54104      1.08193      0.74216  4.23s\n"
       ]
      },
      {
       "output_type": "stream",
       "stream": "stdout",
       "text": [
        "      4       \u001b[36m0.55230\u001b[0m       \u001b[32m0.52091\u001b[0m      1.06026      0.75356  4.24s\n"
       ]
      },
      {
       "output_type": "stream",
       "stream": "stdout",
       "text": [
        "      5       \u001b[36m0.55017\u001b[0m       \u001b[32m0.51929\u001b[0m      1.05947      0.72270  4.23s\n"
       ]
      },
      {
       "output_type": "stream",
       "stream": "stdout",
       "text": [
        "      6       \u001b[36m0.54395\u001b[0m       0.55019      0.98867      0.73156  4.24s\n"
       ]
      },
      {
       "output_type": "stream",
       "stream": "stdout",
       "text": [
        "      7       \u001b[36m0.53072\u001b[0m       0.52430      1.01224      0.73704  4.24s\n"
       ]
      },
      {
       "output_type": "stream",
       "stream": "stdout",
       "text": [
        "      8       0.53750       0.53129      1.01170      0.74644  4.24s\n"
       ]
      },
      {
       "output_type": "stream",
       "stream": "stdout",
       "text": [
        "      9       \u001b[36m0.52600\u001b[0m       0.58201      0.90377      0.72174  4.24s\n"
       ]
      },
      {
       "output_type": "stream",
       "stream": "stdout",
       "text": [
        "     10       0.53563       0.54091      0.99024      0.74557  4.24s\n"
       ]
      },
      {
       "output_type": "stream",
       "stream": "stdout",
       "text": [
        "     11       0.53437       0.53341      1.00180      0.74147  4.24s\n"
       ]
      },
      {
       "output_type": "stream",
       "stream": "stdout",
       "text": [
        "     12       0.53381       0.52192      1.02279      0.74288  4.25s\n"
       ]
      },
      {
       "output_type": "stream",
       "stream": "stdout",
       "text": [
        "     13       \u001b[36m0.52417\u001b[0m       0.53392      0.98174      0.75105  4.24s\n"
       ]
      },
      {
       "output_type": "stream",
       "stream": "stdout",
       "text": [
        "     14       0.52955       \u001b[32m0.50912\u001b[0m      1.04012      0.77724  4.23s\n"
       ]
      },
      {
       "output_type": "stream",
       "stream": "stdout",
       "text": [
        "     15       0.52737       0.55317      0.95337      0.75575  4.23s\n"
       ]
      },
      {
       "output_type": "stream",
       "stream": "stdout",
       "text": [
        "     16       0.52824       0.53121      0.99441      0.75410  4.23s\n"
       ]
      },
      {
       "output_type": "stream",
       "stream": "stdout",
       "text": [
        "     17       \u001b[36m0.51788\u001b[0m       0.54647      0.94768      0.75706  4.23s\n"
       ]
      },
      {
       "output_type": "stream",
       "stream": "stdout",
       "text": [
        "     18       0.52637       \u001b[32m0.50500\u001b[0m      1.04232      0.75931  4.23s\n"
       ]
      },
      {
       "output_type": "stream",
       "stream": "stdout",
       "text": [
        "     19       0.51952       0.52762      0.98464      0.74853  4.23s\n"
       ]
      },
      {
       "output_type": "stream",
       "stream": "stdout",
       "text": [
        "     20       \u001b[36m0.51118\u001b[0m       0.55302      0.92434      0.75210  4.24s\n"
       ]
      },
      {
       "output_type": "stream",
       "stream": "stdout",
       "text": [
        "     21       0.51575       0.53125      0.97082      0.75715  4.23s\n"
       ]
      },
      {
       "output_type": "stream",
       "stream": "stdout",
       "text": [
        "     22       0.51834       0.53615      0.96678      0.76149  4.24s\n"
       ]
      },
      {
       "output_type": "stream",
       "stream": "stdout",
       "text": [
        "     23       0.51690       0.51178      1.01000      0.75374  4.23s\n"
       ]
      },
      {
       "output_type": "stream",
       "stream": "stdout",
       "text": [
        "     24       0.51629       0.51731      0.99802      0.76063  4.24s\n"
       ]
      },
      {
       "output_type": "stream",
       "stream": "stdout",
       "text": [
        "     25       0.51676       0.52497      0.98436      0.75542  4.23s\n"
       ]
      },
      {
       "output_type": "stream",
       "stream": "stdout",
       "text": [
        "     26       0.51688       \u001b[32m0.50214\u001b[0m      1.02934      0.77628  4.23s\n"
       ]
      },
      {
       "output_type": "stream",
       "stream": "stdout",
       "text": [
        "     27       \u001b[36m0.50967\u001b[0m       0.53255      0.95704      0.76715  4.23s\n"
       ]
      },
      {
       "output_type": "stream",
       "stream": "stdout",
       "text": [
        "     28       0.51824       0.51756      1.00131      0.75506  4.24s\n"
       ]
      },
      {
       "output_type": "stream",
       "stream": "stdout",
       "text": [
        "     29       0.51120       \u001b[32m0.50051\u001b[0m      1.02136      0.77071  4.24s\n"
       ]
      },
      {
       "output_type": "stream",
       "stream": "stdout",
       "text": [
        "     30       0.51260       0.51837      0.98886      0.75566  4.24s\n"
       ]
      },
      {
       "output_type": "stream",
       "stream": "stdout",
       "text": [
        "     31       \u001b[36m0.50408\u001b[0m       0.50951      0.98935      0.76081  4.24s\n"
       ]
      },
      {
       "output_type": "stream",
       "stream": "stdout",
       "text": [
        "     32       0.51453       0.50587      1.01712      0.77341  4.23s\n"
       ]
      },
      {
       "output_type": "stream",
       "stream": "stdout",
       "text": [
        "     33       0.51663       0.51999      0.99354      0.75314  4.23s\n"
       ]
      },
      {
       "output_type": "stream",
       "stream": "stdout",
       "text": [
        "     34       0.50853       0.52255      0.97317      0.75949  4.24s\n"
       ]
      },
      {
       "output_type": "stream",
       "stream": "stdout",
       "text": [
        "     35       \u001b[36m0.50353\u001b[0m       0.52304      0.96270      0.75078  4.23s\n"
       ]
      },
      {
       "output_type": "stream",
       "stream": "stdout",
       "text": [
        "     36       \u001b[36m0.49719\u001b[0m       0.52515      0.94676      0.75913  4.24s\n"
       ]
      },
      {
       "output_type": "stream",
       "stream": "stdout",
       "text": [
        "     37       0.50119       0.51666      0.97006      0.75287  4.24s\n"
       ]
      },
      {
       "output_type": "stream",
       "stream": "stdout",
       "text": [
        "     38       0.50097       0.54154      0.92508      0.75018  4.24s\n"
       ]
      },
      {
       "output_type": "stream",
       "stream": "stdout",
       "text": [
        "     39       \u001b[36m0.49668\u001b[0m       0.52031      0.95459      0.75296  4.24s\n"
       ]
      },
      {
       "output_type": "stream",
       "stream": "stdout",
       "text": [
        "     40       0.50201       0.50319      0.99766      0.74764  4.24s\n"
       ]
      },
      {
       "output_type": "stream",
       "stream": "stdout",
       "text": [
        "     41       \u001b[36m0.49330\u001b[0m       0.51848      0.95144      0.75557  4.24s\n"
       ]
      },
      {
       "output_type": "stream",
       "stream": "stdout",
       "text": [
        "     42       \u001b[36m0.48976\u001b[0m       0.52527      0.93238      0.74895  4.24s\n"
       ]
      },
      {
       "output_type": "stream",
       "stream": "stdout",
       "text": [
        "     43       \u001b[36m0.48386\u001b[0m       0.50938      0.94991      0.75635  4.24s\n"
       ]
      },
      {
       "output_type": "stream",
       "stream": "stdout",
       "text": [
        "     44       0.48756       0.53060      0.91888      0.74937  4.24s\n"
       ]
      },
      {
       "output_type": "stream",
       "stream": "stdout",
       "text": [
        "     45       0.49024       0.51939      0.94389      0.74590  4.24s\n"
       ]
      },
      {
       "output_type": "stream",
       "stream": "stdout",
       "text": [
        "     46       0.48542       0.53525      0.90691      0.74704  4.24s\n"
       ]
      },
      {
       "output_type": "stream",
       "stream": "stdout",
       "text": [
        "     47       0.48567       0.52439      0.92617      0.74443  4.24s\n"
       ]
      },
      {
       "output_type": "stream",
       "stream": "stdout",
       "text": [
        "     48       \u001b[36m0.48012\u001b[0m       0.51873      0.92558      0.74946  4.23s\n"
       ]
      },
      {
       "output_type": "stream",
       "stream": "stdout",
       "text": [
        "     49       0.48033       0.52413      0.91644      0.74165  4.24s\n"
       ]
      },
      {
       "output_type": "stream",
       "stream": "stdout",
       "text": [
        "     50       \u001b[36m0.47392\u001b[0m       0.50075      0.94643      0.75670  4.24s\n"
       ]
      },
      {
       "output_type": "stream",
       "stream": "stdout",
       "text": [
        "     51       \u001b[36m0.47174\u001b[0m       0.52631      0.89631      0.74078  4.25s\n"
       ]
      },
      {
       "output_type": "stream",
       "stream": "stdout",
       "text": [
        "     52       0.47893       0.51898      0.92284      0.73470  4.24s\n"
       ]
      },
      {
       "output_type": "stream",
       "stream": "stdout",
       "text": [
        "     53       0.47421       0.52351      0.90582      0.73976  4.24s\n"
       ]
      },
      {
       "output_type": "stream",
       "stream": "stdout",
       "text": [
        "     54       \u001b[36m0.46459\u001b[0m       0.53021      0.87625      0.74132  4.24s\n"
       ]
      },
      {
       "output_type": "stream",
       "stream": "stdout",
       "text": [
        "     55       \u001b[36m0.46219\u001b[0m       0.51461      0.89815      0.74479  4.25s\n"
       ]
      },
      {
       "output_type": "stream",
       "stream": "stdout",
       "text": [
        "     56       \u001b[36m0.46164\u001b[0m       0.52012      0.88756      0.74279  4.25s\n"
       ]
      },
      {
       "output_type": "stream",
       "stream": "stdout",
       "text": [
        "     57       \u001b[36m0.45848\u001b[0m       0.51230      0.89495      0.74210  4.24s\n"
       ]
      },
      {
       "output_type": "stream",
       "stream": "stdout",
       "text": [
        "     58       0.45928       0.51362      0.89420      0.73913  4.25s\n"
       ]
      }
     ],
     "prompt_number": 30
    },
    {
     "cell_type": "code",
     "collapsed": false,
     "input": [
      "from nolearn.lasagne.visualize import plot_loss\n",
      "plot_loss(net1)"
     ],
     "language": "python",
     "metadata": {},
     "outputs": [
      {
       "metadata": {},
       "output_type": "display_data",
       "png": "[encoded data removed]",
       "text": [
        "<matplotlib.figure.Figure at 0x7f79a8115790>"
       ]
      }
     ],
     "prompt_number": 24
    },
    {
     "cell_type": "code",
     "collapsed": false,
     "input": [],
     "language": "python",
     "metadata": {},
     "outputs": []
    }
   ],
   "metadata": {}
  }
 ]
}