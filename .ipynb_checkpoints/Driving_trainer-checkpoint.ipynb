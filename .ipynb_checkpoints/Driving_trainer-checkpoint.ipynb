{
 "metadata": {
  "name": ""
 },
 "nbformat": 3,
 "nbformat_minor": 0,
 "worksheets": [
  {
   "cells": [
    {
     "cell_type": "code",
     "collapsed": false,
     "input": [
      "import matplotlib\n",
      "import matplotlib.pyplot as plt\n",
      "import matplotlib.cm as cm\n",
      "from PIL import Image\n",
      "from urllib import urlretrieve\n",
      "import cPickle as pickle\n",
      "import os\n",
      "import gzip\n",
      "import numpy as np\n",
      "import theano\n",
      "import lasagne\n",
      "from lasagne import layers\n",
      "from lasagne.updates import nesterov_momentum\n",
      "from nolearn.lasagne import NeuralNet\n",
      "from nolearn.lasagne import visualize\n",
      "from sklearn.metrics import classification_report\n",
      "from sklearn.metrics import confusion_matrix\n",
      "%matplotlib inline"
     ],
     "language": "python",
     "metadata": {},
     "outputs": [
      {
       "output_type": "stream",
       "stream": "stderr",
       "text": [
        "Using gpu device 0: GRID K520 (CNMeM is disabled)\n"
       ]
      }
     ],
     "prompt_number": 1
    },
    {
     "cell_type": "code",
     "collapsed": false,
     "input": [
      "def load_dataset(filename1,filename2):\n",
      "    \n",
      "        \n",
      "    fIm = open('/home/ubuntu/'+ filename1, 'r')\n",
      "    fIn = open('/home/ubuntu/'+ filename2, 'r')\n",
      "    X_train = pickle.load(fIm)/255.\n",
      "    y_train = pickle.load(fIn)\n",
      "    \n",
      "    H = X_train.shape[1]\n",
      "    W = X_train.shape[2]\n",
      "    ch = X_train.shape[3]\n",
      "    \n",
      "    X_train = X_train.reshape(-1,ch,H,W)\n",
      "    X_train = X_train.astype(np.float32)\n",
      "    y_train = y_train.astype(np.uint8)\n",
      "    \n",
      "    return X_train, y_train, H, W, ch\n",
      "\n",
      "def deprocess(x):\n",
      "    \n",
      "    x = x.reshape(H,W)\n",
      "    x = x*255\n",
      "    x = np.clip(x, 0, 255).astype('uint8')\n",
      "    return x"
     ],
     "language": "python",
     "metadata": {},
     "outputs": [],
     "prompt_number": 2
    },
    {
     "cell_type": "code",
     "collapsed": false,
     "input": [
      "X_train, y_train, H, W, ch = load_dataset('images5.p','inputs5.p')"
     ],
     "language": "python",
     "metadata": {},
     "outputs": [],
     "prompt_number": 12
    },
    {
     "cell_type": "code",
     "collapsed": false,
     "input": [
      "y_train2 = np.zeros(X_train.shape[0])\n",
      "n = -1\n",
      "for i in y_train:\n",
      "    n += 1\n",
      "    if i[2]==1:\n",
      "        y_train2[n] = 0\n",
      "    if i[3]==1:\n",
      "        y_train2[n] = 1\n",
      "    if i[2]==0 and i[3] == 0:\n",
      "        y_train2[n] = 2\n",
      "y_train2 = y_train2.astype('uint8')"
     ],
     "language": "python",
     "metadata": {},
     "outputs": [],
     "prompt_number": 13
    },
    {
     "cell_type": "code",
     "collapsed": false,
     "input": [
      "print 'X type and shape:', X_train.dtype, X_train.shape\n",
      "print 'X.min():', X_train.min()\n",
      "print 'X.max():', X_train.max()\n",
      "print 'y type and shape:', y_train2.dtype, y_train2.shape\n",
      "print 'y.min():', y_train2.min()\n",
      "print 'y.max():', y_train2.max()"
     ],
     "language": "python",
     "metadata": {},
     "outputs": [
      {
       "output_type": "stream",
       "stream": "stdout",
       "text": [
        "X type and shape: float32 (2308, 1, 36, 120)\n",
        "X.min(): 0.0\n",
        "X.max(): 1.0\n",
        "y type and shape: uint8 (2308,)\n",
        "y.min(): 0\n",
        "y.max(): 2\n"
       ]
      }
     ],
     "prompt_number": 14
    },
    {
     "cell_type": "code",
     "collapsed": false,
     "input": [
      "plt.imshow(deprocess(X_train[312]))\n",
      "y_train2[312]"
     ],
     "language": "python",
     "metadata": {},
     "outputs": [
      {
       "metadata": {},
       "output_type": "pyout",
       "prompt_number": 15,
       "text": [
        "1"
       ]
      },
      {
       "metadata": {},
       "output_type": "display_data",
       "png": "[encoded data removed]",
       "text": [
        "<matplotlib.figure.Figure at 0x7f4de8545290>"
       ]
      }
     ],
     "prompt_number": 15
    },
    {
     "cell_type": "code",
     "collapsed": false,
     "input": [
      "net1 = NeuralNet(\n",
      "    layers=[('input', layers.InputLayer),\n",
      "            ('conv2d1', layers.Conv2DLayer),\n",
      "            ('maxpool1', layers.MaxPool2DLayer),\n",
      "            ('conv2d2', layers.Conv2DLayer),\n",
      "            ('maxpool2', layers.MaxPool2DLayer),\n",
      "            ('conv2d3', layers.Conv2DLayer),\n",
      "            ('maxpool3', layers.MaxPool2DLayer),\n",
      "            ('dropout1', layers.DropoutLayer),\n",
      "            ('dense', layers.DenseLayer),\n",
      "            ('dropout2', layers.DropoutLayer),\n",
      "            ('output', layers.DenseLayer),\n",
      "            ],\n",
      "    # input layer\n",
      "    input_shape=(None, ch, H, W),\n",
      "    # layer conv2d1\n",
      "    conv2d1_num_filters=32,\n",
      "    conv2d1_filter_size=(5, 5),\n",
      "    conv2d1_nonlinearity=lasagne.nonlinearities.rectify,\n",
      "    conv2d1_W=lasagne.init.GlorotUniform(),  \n",
      "    # layer maxpool1\n",
      "    maxpool1_pool_size=(2, 2),    \n",
      "    # layer conv2d2\n",
      "    conv2d2_num_filters=64,\n",
      "    conv2d2_filter_size=(5, 5),\n",
      "    conv2d2_nonlinearity=lasagne.nonlinearities.rectify,\n",
      "    # layer maxpool2\n",
      "    maxpool2_pool_size=(2, 2),\n",
      "    # layer conv2d3\n",
      "    conv2d3_num_filters=64,\n",
      "    conv2d3_filter_size=(5, 5),\n",
      "    conv2d3_nonlinearity=lasagne.nonlinearities.rectify,\n",
      "    # layer maxpool3\n",
      "    maxpool3_pool_size=(2, 2),\n",
      "    # dropout1\n",
      "    dropout1_p=0.5,    \n",
      "    # dense\n",
      "    dense_num_units=256,\n",
      "    dense_nonlinearity=lasagne.nonlinearities.rectify,    \n",
      "    # dropout2\n",
      "    dropout2_p=0.5,    \n",
      "    # output\n",
      "    output_nonlinearity=lasagne.nonlinearities.softmax,\n",
      "    output_num_units=3,\n",
      "    # optimization method params\n",
      "    update=nesterov_momentum,\n",
      "    update_learning_rate=0.01,\n",
      "    update_momentum=0.9,\n",
      "    max_epochs=500,\n",
      "    verbose=1,\n",
      "    )"
     ],
     "language": "python",
     "metadata": {},
     "outputs": [],
     "prompt_number": 18
    },
    {
     "cell_type": "code",
     "collapsed": false,
     "input": [
      "nn = net1.fit(X_train, y_train2)"
     ],
     "language": "python",
     "metadata": {},
     "outputs": [
      {
       "output_type": "stream",
       "stream": "stdout",
       "text": [
        "# Neural Network with 335811 learnable parameters\n",
        "\n",
        "## Layer information\n",
        "\n",
        "  #  name      size\n",
        "---  --------  ---------\n",
        "  0  input     1x36x120\n",
        "  1  conv2d1   32x32x116\n",
        "  2  maxpool1  32x16x58\n",
        "  3  conv2d2   64x12x54\n",
        "  4  maxpool2  64x6x27\n",
        "  5  conv2d3   64x2x23\n",
        "  6  maxpool3  64x1x11\n",
        "  7  dropout1  64x1x11\n",
        "  8  dense     256\n",
        "  9  dropout2  256\n",
        " 10  output    3\n",
        "\n"
       ]
      },
      {
       "output_type": "stream",
       "stream": "stdout",
       "text": [
        "  epoch    train loss    valid loss    train/val    valid acc  dur\n",
        "-------  ------------  ------------  -----------  -----------  -----\n",
        "      1       \u001b[36m1.06063\u001b[0m       \u001b[32m0.88225\u001b[0m      1.20219      0.64179  1.34s\n"
       ]
      },
      {
       "output_type": "stream",
       "stream": "stdout",
       "text": [
        "      2       \u001b[36m0.93689\u001b[0m       \u001b[32m0.57120\u001b[0m      1.64020      0.80147  1.32s\n"
       ]
      },
      {
       "output_type": "stream",
       "stream": "stdout",
       "text": [
        "      3       \u001b[36m0.74432\u001b[0m       \u001b[32m0.48366\u001b[0m      1.53892      0.83347  1.32s\n"
       ]
      },
      {
       "output_type": "stream",
       "stream": "stdout",
       "text": [
        "      4       \u001b[36m0.58720\u001b[0m       \u001b[32m0.43969\u001b[0m      1.33550      0.84835  1.32s\n"
       ]
      },
      {
       "output_type": "stream",
       "stream": "stdout",
       "text": [
        "      5       \u001b[36m0.50019\u001b[0m       \u001b[32m0.41363\u001b[0m      1.20926      0.86882  1.32s\n"
       ]
      },
      {
       "output_type": "stream",
       "stream": "stdout",
       "text": [
        "      6       \u001b[36m0.46717\u001b[0m       0.41663      1.12131      0.85347  1.32s\n"
       ]
      },
      {
       "output_type": "stream",
       "stream": "stdout",
       "text": [
        "      7       \u001b[36m0.44191\u001b[0m       \u001b[32m0.38884\u001b[0m      1.13650      0.85784  1.32s\n"
       ]
      },
      {
       "output_type": "stream",
       "stream": "stdout",
       "text": [
        "      8       \u001b[36m0.43007\u001b[0m       \u001b[32m0.38168\u001b[0m      1.12679      0.86175  1.32s\n"
       ]
      },
      {
       "output_type": "stream",
       "stream": "stdout",
       "text": [
        "      9       \u001b[36m0.41914\u001b[0m       \u001b[32m0.37827\u001b[0m      1.10803      0.84565  1.32s\n"
       ]
      },
      {
       "output_type": "stream",
       "stream": "stdout",
       "text": [
        "     10       \u001b[36m0.41585\u001b[0m       0.38303      1.08569      0.84687  1.32s\n"
       ]
      },
      {
       "output_type": "stream",
       "stream": "stdout",
       "text": [
        "     11       \u001b[36m0.40066\u001b[0m       0.38182      1.04933      0.84882  1.33s\n"
       ]
      },
      {
       "output_type": "stream",
       "stream": "stdout",
       "text": [
        "     12       \u001b[36m0.38669\u001b[0m       \u001b[32m0.37802\u001b[0m      1.02294      0.84296  1.32s\n"
       ]
      },
      {
       "output_type": "stream",
       "stream": "stdout",
       "text": [
        "     13       \u001b[36m0.37229\u001b[0m       0.37939      0.98130      0.84882  1.32s\n"
       ]
      },
      {
       "output_type": "stream",
       "stream": "stdout",
       "text": [
        "     14       0.38603       0.37831      1.02039      0.84761  1.32s\n"
       ]
      },
      {
       "output_type": "stream",
       "stream": "stdout",
       "text": [
        "     15       0.37339       0.38346      0.97376      0.83663  1.32s\n"
       ]
      },
      {
       "output_type": "stream",
       "stream": "stdout",
       "text": [
        "     16       \u001b[36m0.35710\u001b[0m       0.38055      0.93838      0.84370  1.32s\n"
       ]
      },
      {
       "output_type": "stream",
       "stream": "stdout",
       "text": [
        "     17       0.38876       \u001b[32m0.37608\u001b[0m      1.03372      0.85077  1.32s\n"
       ]
      },
      {
       "output_type": "stream",
       "stream": "stdout",
       "text": [
        "     18       0.38620       \u001b[32m0.36838\u001b[0m      1.04837      0.84491  1.33s\n"
       ]
      },
      {
       "output_type": "stream",
       "stream": "stdout",
       "text": [
        "     19       0.37758       0.36961      1.02155      0.84687  1.32s\n"
       ]
      },
      {
       "output_type": "stream",
       "stream": "stdout",
       "text": [
        "     20       0.37034       0.37524      0.98695      0.84687  1.32s\n"
       ]
      },
      {
       "output_type": "stream",
       "stream": "stdout",
       "text": [
        "     21       0.36390       0.37350      0.97432      0.84491  1.33s\n"
       ]
      },
      {
       "output_type": "stream",
       "stream": "stdout",
       "text": [
        "     22       0.36567       0.37716      0.96951      0.84491  1.33s\n"
       ]
      },
      {
       "output_type": "stream",
       "stream": "stdout",
       "text": [
        "     23       0.36457       0.38352      0.95057      0.83589  1.33s\n"
       ]
      },
      {
       "output_type": "stream",
       "stream": "stdout",
       "text": [
        "     24       0.36543       0.37599      0.97191      0.84296  1.32s\n"
       ]
      },
      {
       "output_type": "stream",
       "stream": "stdout",
       "text": [
        "     25       0.35884       0.37661      0.95283      0.84101  1.32s\n"
       ]
      },
      {
       "output_type": "stream",
       "stream": "stdout",
       "text": [
        "     26       0.36070       0.38604      0.93437      0.84296  1.33s\n"
       ]
      },
      {
       "output_type": "stream",
       "stream": "stdout",
       "text": [
        "     27       \u001b[36m0.35689\u001b[0m       0.38477      0.92754      0.84296  1.32s\n"
       ]
      },
      {
       "output_type": "stream",
       "stream": "stdout",
       "text": [
        "     28       0.35692       0.37819      0.94377      0.84296  1.32s\n"
       ]
      },
      {
       "output_type": "stream",
       "stream": "stdout",
       "text": [
        "     29       0.36358       0.37796      0.96196      0.84296  1.32s\n"
       ]
      },
      {
       "output_type": "stream",
       "stream": "stdout",
       "text": [
        "     30       0.35736       0.38273      0.93371      0.83979  1.32s\n"
       ]
      },
      {
       "output_type": "stream",
       "stream": "stdout",
       "text": [
        "     31       \u001b[36m0.35208\u001b[0m       0.38620      0.91165      0.84491  1.32s\n"
       ]
      },
      {
       "output_type": "stream",
       "stream": "stdout",
       "text": [
        "     32       \u001b[36m0.33963\u001b[0m       0.37698      0.90092      0.83784  1.32s\n"
       ]
      },
      {
       "output_type": "stream",
       "stream": "stdout",
       "text": [
        "     33       0.35459       0.38516      0.92062      0.83784  1.32s\n"
       ]
      },
      {
       "output_type": "stream",
       "stream": "stdout",
       "text": [
        "     34       \u001b[36m0.33912\u001b[0m       0.38684      0.87663      0.84296  1.32s\n"
       ]
      },
      {
       "output_type": "stream",
       "stream": "stdout",
       "text": [
        "     35       0.34882       0.37852      0.92152      0.84491  1.32s\n"
       ]
      },
      {
       "output_type": "stream",
       "stream": "stdout",
       "text": [
        "     36       0.34867       0.38388      0.90828      0.83979  1.32s\n"
       ]
      },
      {
       "output_type": "stream",
       "stream": "stdout",
       "text": [
        "     37       0.34889       0.37519      0.92990      0.84296  1.32s\n"
       ]
      },
      {
       "output_type": "stream",
       "stream": "stdout",
       "text": [
        "     38       0.35429       0.38013      0.93204      0.83979  1.32s\n"
       ]
      },
      {
       "output_type": "stream",
       "stream": "stdout",
       "text": [
        "     39       0.35005       0.37717      0.92810      0.83979  1.32s\n"
       ]
      },
      {
       "output_type": "stream",
       "stream": "stdout",
       "text": [
        "     40       0.34915       0.38348      0.91048      0.84101  1.32s\n"
       ]
      },
      {
       "output_type": "stream",
       "stream": "stdout",
       "text": [
        "     41       0.34999       0.38346      0.91271      0.84296  1.32s\n"
       ]
      },
      {
       "output_type": "stream",
       "stream": "stdout",
       "text": [
        "     42       0.34543       0.38524      0.89667      0.84296  1.32s\n"
       ]
      },
      {
       "output_type": "stream",
       "stream": "stdout",
       "text": [
        "     43       0.34243       0.37902      0.90346      0.84296  1.32s\n"
       ]
      },
      {
       "output_type": "stream",
       "stream": "stdout",
       "text": [
        "     44       0.34002       0.38928      0.87345      0.84296  1.32s\n"
       ]
      },
      {
       "output_type": "stream",
       "stream": "stdout",
       "text": [
        "     45       0.34383       0.38550      0.89189      0.84296  1.32s\n"
       ]
      },
      {
       "output_type": "stream",
       "stream": "stdout",
       "text": [
        "     46       \u001b[36m0.33803\u001b[0m       0.38710      0.87324      0.84296  1.32s\n"
       ]
      },
      {
       "output_type": "stream",
       "stream": "stdout",
       "text": [
        "     47       0.34126       0.38118      0.89529      0.84491  1.32s\n"
       ]
      },
      {
       "output_type": "stream",
       "stream": "stdout",
       "text": [
        "     48       \u001b[36m0.33785\u001b[0m       0.38872      0.86913      0.83979  1.32s\n"
       ]
      },
      {
       "output_type": "stream",
       "stream": "stdout",
       "text": [
        "     49       \u001b[36m0.33436\u001b[0m       0.38117      0.87721      0.84296  1.32s\n"
       ]
      },
      {
       "output_type": "stream",
       "stream": "stdout",
       "text": [
        "     50       \u001b[36m0.33078\u001b[0m       0.38632      0.85623      0.84296  1.33s\n"
       ]
      },
      {
       "output_type": "stream",
       "stream": "stdout",
       "text": [
        "     51       0.33439       0.38739      0.86319      0.84296  1.32s\n"
       ]
      },
      {
       "output_type": "stream",
       "stream": "stdout",
       "text": [
        "     52       0.33514       0.38721      0.86551      0.83979  1.33s\n"
       ]
      },
      {
       "output_type": "stream",
       "stream": "stdout",
       "text": [
        "     53       0.33930       0.38343      0.88490      0.84101  1.32s\n"
       ]
      },
      {
       "output_type": "stream",
       "stream": "stdout",
       "text": [
        "     54       0.34303       0.38470      0.89169      0.84296  1.32s\n"
       ]
      },
      {
       "output_type": "stream",
       "stream": "stdout",
       "text": [
        "     55       0.33525       0.38670      0.86695      0.83979  1.32s\n"
       ]
      },
      {
       "output_type": "stream",
       "stream": "stdout",
       "text": [
        "     56       \u001b[36m0.32896\u001b[0m       0.39106      0.84121      0.83589  1.32s\n"
       ]
      },
      {
       "output_type": "stream",
       "stream": "stdout",
       "text": [
        "     57       0.33403       0.38523      0.86710      0.84101  1.32s\n"
       ]
      },
      {
       "output_type": "stream",
       "stream": "stdout",
       "text": [
        "     58       0.34412       0.38131      0.90246      0.83784  1.32s\n"
       ]
      },
      {
       "output_type": "stream",
       "stream": "stdout",
       "text": [
        "     59       \u001b[36m0.32483\u001b[0m       0.38984      0.83326      0.84296  1.32s\n"
       ]
      },
      {
       "output_type": "stream",
       "stream": "stdout",
       "text": [
        "     60       \u001b[36m0.32454\u001b[0m       0.39192      0.82806      0.84101  1.32s\n"
       ]
      },
      {
       "output_type": "stream",
       "stream": "stdout",
       "text": [
        "     61       0.33741       0.37843      0.89162      0.84296  1.32s\n"
       ]
      },
      {
       "output_type": "stream",
       "stream": "stdout",
       "text": [
        "     62       0.33969       0.38205      0.88911      0.83979  1.32s\n"
       ]
      },
      {
       "output_type": "stream",
       "stream": "stdout",
       "text": [
        "     63       0.32874       0.38995      0.84302      0.84296  1.32s\n"
       ]
      },
      {
       "output_type": "stream",
       "stream": "stdout",
       "text": [
        "     64       0.33030       0.38855      0.85010      0.83905  1.33s\n"
       ]
      },
      {
       "output_type": "stream",
       "stream": "stdout",
       "text": [
        "     65       0.32838       0.38830      0.84568      0.84296  1.32s\n"
       ]
      },
      {
       "output_type": "stream",
       "stream": "stdout",
       "text": [
        "     66       \u001b[36m0.32182\u001b[0m       0.38671      0.83219      0.84296  1.32s\n"
       ]
      },
      {
       "output_type": "stream",
       "stream": "stdout",
       "text": [
        "     67       0.34036       0.39059      0.87139      0.84296  1.33s\n"
       ]
      },
      {
       "output_type": "stream",
       "stream": "stdout",
       "text": [
        "     68       0.32990       0.38851      0.84914      0.84296  1.33s\n"
       ]
      },
      {
       "output_type": "stream",
       "stream": "stdout",
       "text": [
        "     69       0.32838       0.38264      0.85820      0.84491  1.32s\n"
       ]
      },
      {
       "output_type": "stream",
       "stream": "stdout",
       "text": [
        "     70       0.32459       0.39199      0.82805      0.84491  1.32s\n"
       ]
      },
      {
       "output_type": "stream",
       "stream": "stdout",
       "text": [
        "     71       0.32977       0.38218      0.86287      0.84296  1.33s\n"
       ]
      },
      {
       "output_type": "stream",
       "stream": "stdout",
       "text": [
        "     72       0.32472       0.39287      0.82653      0.84296  1.32s\n"
       ]
      },
      {
       "output_type": "stream",
       "stream": "stdout",
       "text": [
        "     73       0.32518       0.39135      0.83091      0.84101  1.32s\n"
       ]
      },
      {
       "output_type": "stream",
       "stream": "stdout",
       "text": [
        "     74       \u001b[36m0.32070\u001b[0m       0.38566      0.83155      0.84491  1.32s\n"
       ]
      },
      {
       "output_type": "stream",
       "stream": "stdout",
       "text": [
        "     75       0.32492       0.38828      0.83681      0.84296  1.33s\n"
       ]
      },
      {
       "output_type": "stream",
       "stream": "stdout",
       "text": [
        "     76       \u001b[36m0.31883\u001b[0m       0.38374      0.83086      0.84296  1.32s\n"
       ]
      },
      {
       "output_type": "stream",
       "stream": "stdout",
       "text": [
        "     77       0.32454       0.39415      0.82340      0.84296  1.32s\n"
       ]
      },
      {
       "output_type": "stream",
       "stream": "stdout",
       "text": [
        "     78       0.31938       0.39073      0.81741      0.84491  1.32s\n"
       ]
      },
      {
       "output_type": "stream",
       "stream": "stdout",
       "text": [
        "     79       \u001b[36m0.31788\u001b[0m       0.38836      0.81851      0.84296  1.33s\n"
       ]
      },
      {
       "output_type": "stream",
       "stream": "stdout",
       "text": [
        "     80       0.31972       0.39624      0.80688      0.84101  1.33s\n"
       ]
      },
      {
       "output_type": "stream",
       "stream": "stdout",
       "text": [
        "     81       \u001b[36m0.31535\u001b[0m       0.39504      0.79828      0.84296  1.33s\n"
       ]
      },
      {
       "output_type": "stream",
       "stream": "stdout",
       "text": [
        "     82       0.31952       0.39511      0.80867      0.84296  1.33s\n"
       ]
      },
      {
       "output_type": "stream",
       "stream": "stdout",
       "text": [
        "     83       0.31657       0.38578      0.82058      0.84296  1.33s\n"
       ]
      },
      {
       "output_type": "stream",
       "stream": "stdout",
       "text": [
        "     84       0.32668       0.39551      0.82596      0.84101  1.32s\n"
       ]
      },
      {
       "output_type": "stream",
       "stream": "stdout",
       "text": [
        "     85       0.31837       0.39823      0.79946      0.84296  1.32s\n"
       ]
      },
      {
       "output_type": "stream",
       "stream": "stdout",
       "text": [
        "     86       \u001b[36m0.31237\u001b[0m       0.39676      0.78730      0.84296  1.32s\n"
       ]
      },
      {
       "output_type": "stream",
       "stream": "stdout",
       "text": [
        "     87       0.31284       0.39358      0.79486      0.84296  1.32s\n"
       ]
      },
      {
       "output_type": "stream",
       "stream": "stdout",
       "text": [
        "     88       0.32221       0.39962      0.80629      0.84296  1.33s\n"
       ]
      },
      {
       "output_type": "stream",
       "stream": "stdout",
       "text": [
        "     89       \u001b[36m0.31170\u001b[0m       0.39121      0.79676      0.84296  1.33s\n"
       ]
      },
      {
       "output_type": "stream",
       "stream": "stdout",
       "text": [
        "     90       0.31349       0.38690      0.81026      0.84491  1.32s\n"
       ]
      },
      {
       "output_type": "stream",
       "stream": "stdout",
       "text": [
        "     91       0.32338       0.39414      0.82049      0.84491  1.32s\n"
       ]
      },
      {
       "output_type": "stream",
       "stream": "stdout",
       "text": [
        "     92       \u001b[36m0.31116\u001b[0m       0.38826      0.80144      0.84296  1.33s\n"
       ]
      },
      {
       "output_type": "stream",
       "stream": "stdout",
       "text": [
        "     93       \u001b[36m0.30963\u001b[0m       0.38831      0.79738      0.84491  1.33s\n"
       ]
      },
      {
       "output_type": "stream",
       "stream": "stdout",
       "text": [
        "     94       0.32074       0.39236      0.81747      0.84491  1.33s\n"
       ]
      },
      {
       "output_type": "stream",
       "stream": "stdout",
       "text": [
        "     95       0.31159       0.39788      0.78313      0.84491  1.32s\n"
       ]
      },
      {
       "output_type": "stream",
       "stream": "stdout",
       "text": [
        "     96       0.31303       0.38535      0.81233      0.84491  1.33s\n"
       ]
      },
      {
       "output_type": "stream",
       "stream": "stdout",
       "text": [
        "     97       0.30978       0.39296      0.78832      0.84296  1.32s\n"
       ]
      },
      {
       "output_type": "stream",
       "stream": "stdout",
       "text": [
        "     98       0.31540       0.38894      0.81092      0.84491  1.33s\n"
       ]
      },
      {
       "output_type": "stream",
       "stream": "stdout",
       "text": [
        "     99       \u001b[36m0.30416\u001b[0m       0.39524      0.76956      0.84491  1.33s\n"
       ]
      },
      {
       "output_type": "stream",
       "stream": "stdout",
       "text": [
        "    100       0.31743       0.38915      0.81572      0.84491  1.33s\n"
       ]
      },
      {
       "output_type": "stream",
       "stream": "stdout",
       "text": [
        "    101       0.31312       0.39552      0.79167      0.84296  1.33s\n"
       ]
      },
      {
       "output_type": "stream",
       "stream": "stdout",
       "text": [
        "    102       0.30469       0.39425      0.77283      0.84296  1.32s\n"
       ]
      },
      {
       "output_type": "stream",
       "stream": "stdout",
       "text": [
        "    103       0.31146       0.39301      0.79249      0.84296  1.32s\n"
       ]
      },
      {
       "output_type": "stream",
       "stream": "stdout",
       "text": [
        "    104       0.32406       0.38815      0.83487      0.84491  1.32s\n"
       ]
      },
      {
       "output_type": "stream",
       "stream": "stdout",
       "text": [
        "    105       0.30750       0.38847      0.79157      0.84370  1.33s\n"
       ]
      },
      {
       "output_type": "stream",
       "stream": "stdout",
       "text": [
        "    106       \u001b[36m0.30184\u001b[0m       0.38885      0.77625      0.85077  1.32s\n"
       ]
      },
      {
       "output_type": "stream",
       "stream": "stdout",
       "text": [
        "    107       0.30581       0.39691      0.77049      0.84370  1.32s\n"
       ]
      },
      {
       "output_type": "stream",
       "stream": "stdout",
       "text": [
        "    108       0.30689       0.38964      0.78762      0.84491  1.32s\n"
       ]
      },
      {
       "output_type": "stream",
       "stream": "stdout",
       "text": [
        "    109       0.30786       0.38888      0.79165      0.84491  1.32s\n"
       ]
      },
      {
       "output_type": "stream",
       "stream": "stdout",
       "text": [
        "    110       0.31170       0.39355      0.79202      0.83784  1.32s\n"
       ]
      },
      {
       "output_type": "stream",
       "stream": "stdout",
       "text": [
        "    111       0.31020       0.38494      0.80584      0.84491  1.33s\n"
       ]
      },
      {
       "output_type": "stream",
       "stream": "stdout",
       "text": [
        "    112       0.30498       0.38925      0.78351      0.84101  1.33s\n"
       ]
      },
      {
       "output_type": "stream",
       "stream": "stdout",
       "text": [
        "    113       0.30505       0.39541      0.77147      0.84175  1.33s\n"
       ]
      },
      {
       "output_type": "stream",
       "stream": "stdout",
       "text": [
        "    114       \u001b[36m0.29919\u001b[0m       0.41188      0.72641      0.84101  1.33s\n"
       ]
      },
      {
       "output_type": "stream",
       "stream": "stdout",
       "text": [
        "    115       \u001b[36m0.29579\u001b[0m       0.39773      0.74369      0.84491  1.32s\n"
       ]
      },
      {
       "output_type": "stream",
       "stream": "stdout",
       "text": [
        "    116       0.31037       0.39762      0.78059      0.84491  1.32s\n"
       ]
      },
      {
       "output_type": "stream",
       "stream": "stdout",
       "text": [
        "    117       0.29613       0.39779      0.74445      0.84491  1.32s\n"
       ]
      },
      {
       "output_type": "stream",
       "stream": "stdout",
       "text": [
        "    118       0.30357       0.38692      0.78459      0.85077  1.33s\n"
       ]
      },
      {
       "output_type": "stream",
       "stream": "stdout",
       "text": [
        "    119       0.31849       0.39114      0.81426      0.84882  1.32s\n"
       ]
      },
      {
       "output_type": "stream",
       "stream": "stdout",
       "text": [
        "    120       0.30327       0.39681      0.76427      0.84687  1.32s\n"
       ]
      },
      {
       "output_type": "stream",
       "stream": "stdout",
       "text": [
        "    121       0.30033       0.39876      0.75315      0.84687  1.33s\n"
       ]
      },
      {
       "output_type": "stream",
       "stream": "stdout",
       "text": [
        "    122       0.29940       0.39630      0.75549      0.84565  1.33s\n"
       ]
      },
      {
       "output_type": "stream",
       "stream": "stdout",
       "text": [
        "    123       0.30051       0.39841      0.75426      0.84491  1.33s\n"
       ]
      },
      {
       "output_type": "stream",
       "stream": "stdout",
       "text": [
        "    124       0.30932       0.41072      0.75311      0.84491  1.33s\n"
       ]
      },
      {
       "output_type": "stream",
       "stream": "stdout",
       "text": [
        "    125       \u001b[36m0.29553\u001b[0m       0.40437      0.73083      0.84491  1.32s\n"
       ]
      },
      {
       "output_type": "stream",
       "stream": "stdout",
       "text": [
        "    126       0.30269       0.40077      0.75527      0.84491  1.32s\n"
       ]
      }
     ],
     "prompt_number": 19
    },
    {
     "cell_type": "code",
     "collapsed": false,
     "input": [
      "from nolearn.lasagne.visualize import plot_loss\n",
      "plot_loss(net1)"
     ],
     "language": "python",
     "metadata": {},
     "outputs": [
      {
       "metadata": {},
       "output_type": "display_data",
       "png": "[encoded data removed]",
       "text": [
        "<matplotlib.figure.Figure at 0x7f4ddf39fb10>"
       ]
      }
     ],
     "prompt_number": 20
    },
    {
     "cell_type": "code",
     "collapsed": false,
     "input": [
      "preds = net1.predict(X_train)\n",
      "cm = confusion_matrix(y_train2, preds)\n",
      "plt.matshow(cm)\n",
      "plt.title('Confusion matrix')\n",
      "plt.colorbar()\n",
      "plt.ylabel('True label')\n",
      "plt.xlabel('Predicted label')\n",
      "plt.show()"
     ],
     "language": "python",
     "metadata": {},
     "outputs": [
      {
       "output_type": "stream",
       "stream": "stderr",
       "text": [
        "/usr/local/lib/python2.7/dist-packages/numpy/core/fromnumeric.py:2641: VisibleDeprecationWarning: `rank` is deprecated; use the `ndim` attribute or function instead. To find the rank of a matrix see `numpy.linalg.matrix_rank`.\n",
        "  VisibleDeprecationWarning)\n",
        "/usr/local/lib/python2.7/dist-packages/matplotlib/collections.py:590: FutureWarning: elementwise comparison failed; returning scalar instead, but in the future will perform elementwise comparison\n",
        "  if self._edgecolors == str('face'):\n"
       ]
      },
      {
       "metadata": {},
       "output_type": "display_data",
       "png": "[encoded data removed]",
       "text": [
        "<matplotlib.figure.Figure at 0x7f4df2ec4910>"
       ]
      }
     ],
     "prompt_number": 21
    },
    {
     "cell_type": "code",
     "collapsed": false,
     "input": [
      "y_train2[502:900]"
     ],
     "language": "python",
     "metadata": {},
     "outputs": [
      {
       "metadata": {},
       "output_type": "pyout",
       "prompt_number": 22,
       "text": [
        "array([2, 2, 2, 2, 1, 1, 1, 2, 2, 2, 2, 2, 2, 1, 1, 2, 2, 2, 2, 2, 2, 1, 1,\n",
        "       2, 2, 2, 2, 2, 2, 2, 2, 2, 2, 2, 2, 2, 1, 2, 2, 2, 2, 2, 2, 2, 2, 2,\n",
        "       2, 2, 2, 2, 2, 2, 2, 2, 2, 2, 2, 2, 2, 2, 2, 2, 2, 2, 2, 2, 2, 2, 2,\n",
        "       2, 1, 1, 1, 1, 2, 2, 2, 2, 2, 2, 2, 1, 1, 1, 2, 2, 1, 1, 1, 1, 1, 1,\n",
        "       1, 1, 1, 1, 1, 1, 1, 1, 1, 1, 1, 1, 1, 1, 1, 1, 1, 1, 1, 1, 1, 1, 1,\n",
        "       1, 1, 1, 1, 1, 2, 2, 2, 2, 1, 2, 2, 2, 2, 2, 2, 2, 2, 2, 2, 0, 0, 0,\n",
        "       2, 2, 2, 2, 2, 0, 0, 0, 0, 0, 2, 2, 2, 1, 1, 1, 1, 1, 1, 1, 1, 1, 1,\n",
        "       1, 1, 1, 1, 1, 1, 1, 1, 1, 1, 1, 1, 1, 1, 1, 1, 1, 1, 1, 1, 1, 1, 1,\n",
        "       1, 1, 1, 2, 2, 2, 2, 2, 2, 2, 2, 1, 1, 2, 2, 2, 2, 2, 2, 2, 0, 0, 0,\n",
        "       2, 2, 2, 2, 2, 2, 2, 0, 0, 0, 0, 0, 0, 0, 0, 0, 2, 2, 2, 2, 2, 2, 0,\n",
        "       0, 0, 2, 2, 2, 2, 1, 1, 1, 1, 1, 1, 1, 1, 1, 1, 1, 1, 1, 1, 1, 1, 1,\n",
        "       1, 1, 1, 1, 1, 1, 1, 1, 1, 1, 1, 1, 1, 1, 1, 1, 1, 1, 1, 1, 1, 1, 1,\n",
        "       1, 1, 1, 1, 1, 1, 1, 1, 1, 1, 1, 1, 1, 1, 1, 2, 2, 2, 2, 2, 2, 2, 2,\n",
        "       1, 1, 2, 2, 2, 2, 2, 2, 2, 2, 2, 2, 2, 2, 2, 2, 2, 2, 2, 0, 0, 2, 2,\n",
        "       2, 2, 2, 2, 0, 0, 2, 2, 2, 2, 2, 0, 0, 0, 0, 0, 0, 0, 0, 0, 0, 0, 0,\n",
        "       0, 0, 0, 0, 0, 0, 0, 0, 0, 0, 0, 0, 0, 0, 0, 0, 0, 0, 0, 0, 0, 0, 0,\n",
        "       0, 0, 0, 0, 0, 0, 0, 0, 0, 0, 0, 0, 0, 0, 0, 0, 0, 0, 0, 0, 0, 0, 0,\n",
        "       2, 1, 1, 1, 1, 1, 1], dtype=uint8)"
       ]
      }
     ],
     "prompt_number": 22
    },
    {
     "cell_type": "code",
     "collapsed": false,
     "input": [],
     "language": "python",
     "metadata": {},
     "outputs": []
    }
   ],
   "metadata": {}
  }
 ]
}