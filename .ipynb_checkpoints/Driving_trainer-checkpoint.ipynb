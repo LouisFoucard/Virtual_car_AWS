{
 "metadata": {
  "name": ""
 },
 "nbformat": 3,
 "nbformat_minor": 0,
 "worksheets": [
  {
   "cells": [
    {
     "cell_type": "code",
     "collapsed": false,
     "input": [
      "import matplotlib\n",
      "import matplotlib.pyplot as plt\n",
      "import matplotlib.cm as cm\n",
      "from PIL import Image\n",
      "from urllib import urlretrieve\n",
      "import cPickle as pickle\n",
      "import os\n",
      "import gzip\n",
      "import numpy as np\n",
      "import theano\n",
      "import lasagne\n",
      "from lasagne import layers\n",
      "from lasagne.updates import nesterov_momentum\n",
      "from nolearn.lasagne import NeuralNet\n",
      "from nolearn.lasagne import visualize\n",
      "from sklearn.metrics import classification_report\n",
      "from sklearn.metrics import confusion_matrix\n",
      "%matplotlib inline"
     ],
     "language": "python",
     "metadata": {},
     "outputs": [
      {
       "output_type": "stream",
       "stream": "stderr",
       "text": [
        "Using gpu device 0: GRID K520 (CNMeM is disabled)\n"
       ]
      }
     ],
     "prompt_number": 1
    },
    {
     "cell_type": "code",
     "collapsed": false,
     "input": [
      "def load_dataset():\n",
      "    \n",
      "        \n",
      "    fIm = open('/home/ubuntu/images3.p', 'r')\n",
      "    fIn = open('/home/ubuntu/inputs3.p', 'r')\n",
      "    X_train = pickle.load(fIm)/255.\n",
      "    y_train = pickle.load(fIn)\n",
      "    \n",
      "    H = X_train.shape[1]\n",
      "    W = X_train.shape[2]\n",
      "    ch = X_train.shape[3]\n",
      "    \n",
      "    X_train = X_train.reshape(-1,ch,H,W)\n",
      "    X_train = X_train.astype(np.float32)\n",
      "    y_train = y_train.astype(np.uint8)\n",
      "    \n",
      "    return X_train, y_train, H, W, ch\n",
      "\n",
      "def deprocess(x):\n",
      "    \n",
      "    x = x.reshape(H,W)\n",
      "    #x = x*255\n",
      "    #x = np.clip(x, 0, 255).astype('uint8')\n",
      "    return x"
     ],
     "language": "python",
     "metadata": {},
     "outputs": [],
     "prompt_number": 5
    },
    {
     "cell_type": "code",
     "collapsed": false,
     "input": [
      "X_train, y_train, H, W, ch = load_dataset()"
     ],
     "language": "python",
     "metadata": {},
     "outputs": [],
     "prompt_number": 6
    },
    {
     "cell_type": "code",
     "collapsed": false,
     "input": [
      "y_train2 = np.zeros(X_train.shape[0])\n",
      "n = -1\n",
      "for i in y_train:\n",
      "    n += 1\n",
      "    if i[2]==1:\n",
      "        y_train2[n] = 0\n",
      "    if i[3]==1:\n",
      "        y_train2[n] = 1\n",
      "    if i[2]==0 and i[3] == 0:\n",
      "        y_train2[n] = 2\n",
      "y_train2 = y_train2.astype('uint8')"
     ],
     "language": "python",
     "metadata": {},
     "outputs": [],
     "prompt_number": 7
    },
    {
     "cell_type": "code",
     "collapsed": false,
     "input": [
      "print 'X type and shape:', X_train.dtype, X_train.shape\n",
      "print 'X.min():', X_train.min()\n",
      "print 'X.max():', X_train.max()\n",
      "print 'y type and shape:', y_train2.dtype, y_train2.shape\n",
      "print 'y.min():', y_train2.min()\n",
      "print 'y.max():', y_train2.max()"
     ],
     "language": "python",
     "metadata": {},
     "outputs": [
      {
       "output_type": "stream",
       "stream": "stdout",
       "text": [
        "X type and shape: float32 (5699, 1, 22, 75)\n",
        "X.min(): 0.0\n",
        "X.max(): 1.0\n",
        "y type and shape: uint8 (5699,)\n",
        "y.min(): 0\n",
        "y.max(): 2\n"
       ]
      }
     ],
     "prompt_number": 8
    },
    {
     "cell_type": "code",
     "collapsed": false,
     "input": [
      "plt.imshow(deprocess(X_train[300]))\n",
      "y_train2[300]"
     ],
     "language": "python",
     "metadata": {},
     "outputs": [
      {
       "metadata": {},
       "output_type": "pyout",
       "prompt_number": 9,
       "text": [
        "2"
       ]
      },
      {
       "metadata": {},
       "output_type": "display_data",
       "png": "[encoded data removed]",
       "text": [
        "<matplotlib.figure.Figure at 0x7f79bda1e5d0>"
       ]
      }
     ],
     "prompt_number": 9
    },
    {
     "cell_type": "code",
     "collapsed": false,
     "input": [
      "net1 = NeuralNet(\n",
      "    layers=[('input', layers.InputLayer),\n",
      "            ('conv2d1', layers.Conv2DLayer),\n",
      "            ('maxpool1', layers.MaxPool2DLayer),\n",
      "            ('conv2d2', layers.Conv2DLayer),\n",
      "            ('maxpool2', layers.MaxPool2DLayer),\n",
      "            ('dropout1', layers.DropoutLayer),\n",
      "            ('dense', layers.DenseLayer),\n",
      "            ('dropout2', layers.DropoutLayer),\n",
      "            ('output', layers.DenseLayer),\n",
      "            ],\n",
      "    # input layer\n",
      "    input_shape=(None, ch, H, W),\n",
      "    # layer conv2d1\n",
      "    conv2d1_num_filters=32,\n",
      "    conv2d1_filter_size=(5, 5),\n",
      "    conv2d1_nonlinearity=lasagne.nonlinearities.rectify,\n",
      "    conv2d1_W=lasagne.init.GlorotUniform(),  \n",
      "    # layer maxpool1\n",
      "    maxpool1_pool_size=(2, 2),    \n",
      "    # layer conv2d2\n",
      "    conv2d2_num_filters=32,\n",
      "    conv2d2_filter_size=(5, 5),\n",
      "    conv2d2_nonlinearity=lasagne.nonlinearities.rectify,\n",
      "    # layer maxpool2\n",
      "    maxpool2_pool_size=(2, 2),\n",
      "    # dropout1\n",
      "    dropout1_p=0.5,    \n",
      "    # dense\n",
      "    dense_num_units=32,\n",
      "    dense_nonlinearity=lasagne.nonlinearities.rectify,    \n",
      "    # dropout2\n",
      "    dropout2_p=0.5,    \n",
      "    # output\n",
      "    output_nonlinearity=lasagne.nonlinearities.softmax,\n",
      "    output_num_units=3,\n",
      "    # optimization method params\n",
      "    update=nesterov_momentum,\n",
      "    update_learning_rate=0.01,\n",
      "    update_momentum=0.9,\n",
      "    max_epochs=25,\n",
      "    verbose=1,\n",
      "    )"
     ],
     "language": "python",
     "metadata": {},
     "outputs": [],
     "prompt_number": 10
    },
    {
     "cell_type": "code",
     "collapsed": false,
     "input": [
      "nn = net1.fit(X_train, y_train2)"
     ],
     "language": "python",
     "metadata": {},
     "outputs": [],
     "prompt_number": "*"
    },
    {
     "cell_type": "code",
     "collapsed": false,
     "input": [],
     "language": "python",
     "metadata": {},
     "outputs": []
    }
   ],
   "metadata": {}
  }
 ]
}