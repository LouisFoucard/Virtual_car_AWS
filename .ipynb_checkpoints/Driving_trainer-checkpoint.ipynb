{
 "metadata": {
  "name": ""
 },
 "nbformat": 3,
 "nbformat_minor": 0,
 "worksheets": [
  {
   "cells": [
    {
     "cell_type": "code",
     "collapsed": false,
     "input": [
      "import matplotlib\n",
      "import matplotlib.pyplot as plt\n",
      "import matplotlib.cm as cm\n",
      "from PIL import Image\n",
      "from urllib import urlretrieve\n",
      "import cPickle as pickle\n",
      "import os\n",
      "import gzip\n",
      "import numpy as np\n",
      "import theano\n",
      "import lasagne\n",
      "from lasagne import layers\n",
      "from lasagne.updates import nesterov_momentum\n",
      "from nolearn.lasagne import NeuralNet\n",
      "from nolearn.lasagne import visualize\n",
      "from sklearn.metrics import classification_report\n",
      "from sklearn.metrics import confusion_matrix\n",
      "%matplotlib inline"
     ],
     "language": "python",
     "metadata": {},
     "outputs": [
      {
       "output_type": "stream",
       "stream": "stderr",
       "text": [
        "Using gpu device 0: GRID K520 (CNMeM is disabled)\n"
       ]
      }
     ],
     "prompt_number": 1
    },
    {
     "cell_type": "code",
     "collapsed": false,
     "input": [
      "def load_dataset():\n",
      "    \n",
      "        \n",
      "    fIm = open('/home/ubuntuimages3.p', 'r')\n",
      "    fIn = open('/home/ubuntuinputs3.p', 'r')\n",
      "    X_train = pickle.load(fIm)/255.\n",
      "    y_train = pickle.load(fIn)\n",
      "    \n",
      "    H = X_train.shape[1]\n",
      "    W = X_train.shape[2]\n",
      "    ch = X_train.shape[3]\n",
      "    \n",
      "    X_train = X_train.reshape(-1,ch,H,W)\n",
      "    X_train = X_train.astype(np.float32)\n",
      "    y_train = y_train.astype(np.uint8)\n",
      "    \n",
      "    return X_train, y_train, H, W, ch\n",
      "\n",
      "def deprocess(x):\n",
      "    \n",
      "    x = x.reshape(H,W)\n",
      "    #x = x*255\n",
      "    #x = np.clip(x, 0, 255).astype('uint8')\n",
      "    return x"
     ],
     "language": "python",
     "metadata": {},
     "outputs": [],
     "prompt_number": 2
    },
    {
     "cell_type": "code",
     "collapsed": false,
     "input": [],
     "language": "python",
     "metadata": {},
     "outputs": []
    }
   ],
   "metadata": {}
  }
 ]
}