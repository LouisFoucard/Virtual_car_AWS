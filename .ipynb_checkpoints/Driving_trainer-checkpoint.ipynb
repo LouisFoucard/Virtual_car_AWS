{
 "metadata": {
  "name": ""
 },
 "nbformat": 3,
 "nbformat_minor": 0,
 "worksheets": [
  {
   "cells": [
    {
     "cell_type": "code",
     "collapsed": false,
     "input": [
      "import matplotlib\n",
      "import matplotlib.pyplot as plt\n",
      "import matplotlib.cm as cm\n",
      "from PIL import Image\n",
      "from urllib import urlretrieve\n",
      "import cPickle as pickle\n",
      "import os\n",
      "import gzip\n",
      "import numpy as np\n",
      "import theano\n",
      "import lasagne\n",
      "from lasagne import layers\n",
      "from lasagne.updates import nesterov_momentum\n",
      "from nolearn.lasagne import NeuralNet\n",
      "from nolearn.lasagne import visualize\n",
      "from sklearn.metrics import classification_report\n",
      "from sklearn.metrics import confusion_matrix\n",
      "%matplotlib inline"
     ],
     "language": "python",
     "metadata": {},
     "outputs": [
      {
       "output_type": "stream",
       "stream": "stderr",
       "text": [
        "Using gpu device 0: GRID K520 (CNMeM is disabled)\n"
       ]
      }
     ],
     "prompt_number": 1
    },
    {
     "cell_type": "code",
     "collapsed": false,
     "input": [
      "def load_dataset(filename1,filename2):\n",
      "    \n",
      "        \n",
      "    fIm = open('/home/ubuntu/'+ filename1, 'r')\n",
      "    fIn = open('/home/ubuntu/'+ filename2, 'r')\n",
      "    X_train = pickle.load(fIm)/255.\n",
      "    y_train = pickle.load(fIn)\n",
      "    \n",
      "    H = X_train.shape[1]\n",
      "    W = X_train.shape[2]\n",
      "    ch = X_train.shape[3]\n",
      "    \n",
      "    X_train = X_train.reshape(-1,ch,H,W)\n",
      "    X_train = X_train.astype(np.float32)\n",
      "    y_train = y_train.astype(np.uint8)\n",
      "    \n",
      "    return X_train, y_train, H, W, ch\n",
      "\n",
      "def deprocess(x):\n",
      "    \n",
      "    x = x.reshape(H,W)\n",
      "    x = x*255\n",
      "    x = np.clip(x, 0, 255).astype('uint8')\n",
      "    return x"
     ],
     "language": "python",
     "metadata": {},
     "outputs": [],
     "prompt_number": 50
    },
    {
     "cell_type": "code",
     "collapsed": false,
     "input": [
      "X_train, y_train, H, W, ch = load_dataset('images5.p','inputs5.p')"
     ],
     "language": "python",
     "metadata": {},
     "outputs": [],
     "prompt_number": 51
    },
    {
     "cell_type": "code",
     "collapsed": false,
     "input": [
      "y_train2 = np.zeros(X_train.shape[0])\n",
      "n = -1\n",
      "for i in y_train:\n",
      "    n += 1\n",
      "    if i[2]==1:\n",
      "        y_train2[n] = 0\n",
      "    if i[3]==1:\n",
      "        y_train2[n] = 1\n",
      "    if i[2]==0 and i[3] == 0:\n",
      "        y_train2[n] = 2\n",
      "y_train2 = y_train2.astype('uint8')"
     ],
     "language": "python",
     "metadata": {},
     "outputs": [],
     "prompt_number": 52
    },
    {
     "cell_type": "code",
     "collapsed": false,
     "input": [
      "print 'X type and shape:', X_train.dtype, X_train.shape\n",
      "print 'X.min():', X_train.min()\n",
      "print 'X.max():', X_train.max()\n",
      "print 'y type and shape:', y_train2.dtype, y_train2.shape\n",
      "print 'y.min():', y_train2.min()\n",
      "print 'y.max():', y_train2.max()"
     ],
     "language": "python",
     "metadata": {},
     "outputs": [
      {
       "output_type": "stream",
       "stream": "stdout",
       "text": [
        "X type and shape: float32 (2308, 1, 36, 120)\n",
        "X.min(): 0.0\n",
        "X.max(): 1.0\n",
        "y type and shape: uint8 (2308,)\n",
        "y.min(): 0\n",
        "y.max(): 2\n"
       ]
      }
     ],
     "prompt_number": 53
    },
    {
     "cell_type": "code",
     "collapsed": false,
     "input": [
      "plt.imshow(deprocess(X_train[312]))\n",
      "y_train2[312]"
     ],
     "language": "python",
     "metadata": {},
     "outputs": [
      {
       "metadata": {},
       "output_type": "pyout",
       "prompt_number": 54,
       "text": [
        "1"
       ]
      },
      {
       "metadata": {},
       "output_type": "display_data",
       "png": "[encoded data removed]",
       "text": [
        "<matplotlib.figure.Figure at 0x7f79a7d6c1d0>"
       ]
      }
     ],
     "prompt_number": 54
    },
    {
     "cell_type": "code",
     "collapsed": false,
     "input": [
      "net1 = NeuralNet(\n",
      "    layers=[('input', layers.InputLayer),\n",
      "            ('conv2d1', layers.Conv2DLayer),\n",
      "            ('maxpool1', layers.MaxPool2DLayer),\n",
      "            ('conv2d2', layers.Conv2DLayer),\n",
      "            ('maxpool2', layers.MaxPool2DLayer),\n",
      "            ('dropout1', layers.DropoutLayer),\n",
      "            ('dense', layers.DenseLayer),\n",
      "            ('dropout2', layers.DropoutLayer),\n",
      "            ('output', layers.DenseLayer),\n",
      "            ],\n",
      "    # input layer\n",
      "    input_shape=(None, ch, H, W),\n",
      "    # layer conv2d1\n",
      "    conv2d1_num_filters=32,\n",
      "    conv2d1_filter_size=(5, 5),\n",
      "    conv2d1_nonlinearity=lasagne.nonlinearities.rectify,\n",
      "    conv2d1_W=lasagne.init.GlorotUniform(),  \n",
      "    # layer maxpool1\n",
      "    maxpool1_pool_size=(2, 2),    \n",
      "    # layer conv2d2\n",
      "    conv2d2_num_filters=32,\n",
      "    conv2d2_filter_size=(5, 5),\n",
      "    conv2d2_nonlinearity=lasagne.nonlinearities.rectify,\n",
      "    # layer maxpool2\n",
      "    maxpool2_pool_size=(2, 2),\n",
      "    # dropout1\n",
      "    dropout1_p=0.5,    \n",
      "    # dense\n",
      "    dense_num_units=64,\n",
      "    dense_nonlinearity=lasagne.nonlinearities.rectify,    \n",
      "    # dropout2\n",
      "    dropout2_p=0.5,    \n",
      "    # output\n",
      "    output_nonlinearity=lasagne.nonlinearities.softmax,\n",
      "    output_num_units=3,\n",
      "    # optimization method params\n",
      "    update=nesterov_momentum,\n",
      "    update_learning_rate=0.01,\n",
      "    update_momentum=0.9,\n",
      "    max_epochs=500,\n",
      "    verbose=1,\n",
      "    )"
     ],
     "language": "python",
     "metadata": {},
     "outputs": [],
     "prompt_number": 63
    },
    {
     "cell_type": "code",
     "collapsed": false,
     "input": [
      "nn = net1.fit(X_train, y_train2)"
     ],
     "language": "python",
     "metadata": {},
     "outputs": [
      {
       "output_type": "stream",
       "stream": "stdout",
       "text": [
        "# Neural Network with 358499 learnable parameters\n",
        "\n",
        "## Layer information\n",
        "\n",
        "  #  name      size\n",
        "---  --------  ---------\n",
        "  0  input     1x36x120\n",
        "  1  conv2d1   32x32x116\n",
        "  2  maxpool1  32x16x58\n",
        "  3  conv2d2   32x12x54\n",
        "  4  maxpool2  32x6x27\n",
        "  5  dropout1  32x6x27\n",
        "  6  dense     64\n",
        "  7  dropout2  64\n",
        "  8  output    3\n",
        "\n"
       ]
      },
      {
       "output_type": "stream",
       "stream": "stdout",
       "text": [
        "  epoch    train loss    valid loss    train/val    valid acc  dur\n",
        "-------  ------------  ------------  -----------  -----------  -----\n",
        "      1       \u001b[36m1.08297\u001b[0m       \u001b[32m0.91361\u001b[0m      1.18538      0.63667  0.86s\n"
       ]
      },
      {
       "output_type": "stream",
       "stream": "stdout",
       "text": [
        "      2       \u001b[36m0.91622\u001b[0m       \u001b[32m0.67615\u001b[0m      1.35505      0.73878  0.83s\n"
       ]
      },
      {
       "output_type": "stream",
       "stream": "stdout",
       "text": [
        "      3       \u001b[36m0.79276\u001b[0m       \u001b[32m0.59038\u001b[0m      1.34279      0.78760  0.83s\n"
       ]
      },
      {
       "output_type": "stream",
       "stream": "stdout",
       "text": [
        "      4       \u001b[36m0.69476\u001b[0m       \u001b[32m0.52909\u001b[0m      1.31312      0.80100  0.83s\n"
       ]
      },
      {
       "output_type": "stream",
       "stream": "stdout",
       "text": [
        "      5       \u001b[36m0.57609\u001b[0m       \u001b[32m0.44073\u001b[0m      1.30713      0.85421  0.83s\n"
       ]
      },
      {
       "output_type": "stream",
       "stream": "stdout",
       "text": [
        "      6       \u001b[36m0.55010\u001b[0m       \u001b[32m0.39604\u001b[0m      1.38902      0.85347  0.83s\n"
       ]
      },
      {
       "output_type": "stream",
       "stream": "stdout",
       "text": [
        "      7       \u001b[36m0.49530\u001b[0m       0.39761      1.24570      0.86565  0.83s\n"
       ]
      },
      {
       "output_type": "stream",
       "stream": "stdout",
       "text": [
        "      8       \u001b[36m0.45479\u001b[0m       \u001b[32m0.36438\u001b[0m      1.24812      0.85663  0.83s\n"
       ]
      },
      {
       "output_type": "stream",
       "stream": "stdout",
       "text": [
        "      9       \u001b[36m0.41870\u001b[0m       \u001b[32m0.36236\u001b[0m      1.15546      0.85468  0.83s\n"
       ]
      },
      {
       "output_type": "stream",
       "stream": "stdout",
       "text": [
        "     10       0.42471       0.36332      1.16897      0.85858  0.83s\n"
       ]
      },
      {
       "output_type": "stream",
       "stream": "stdout",
       "text": [
        "     11       \u001b[36m0.40413\u001b[0m       0.37286      1.08389      0.85272  0.84s\n"
       ]
      },
      {
       "output_type": "stream",
       "stream": "stdout",
       "text": [
        "     12       \u001b[36m0.38529\u001b[0m       0.37837      1.01829      0.84491  0.83s\n"
       ]
      },
      {
       "output_type": "stream",
       "stream": "stdout",
       "text": [
        "     13       0.39011       0.37622      1.03692      0.84687  0.83s\n"
       ]
      },
      {
       "output_type": "stream",
       "stream": "stdout",
       "text": [
        "     14       0.39176       0.37722      1.03854      0.84882  0.83s\n"
       ]
      },
      {
       "output_type": "stream",
       "stream": "stdout",
       "text": [
        "     15       \u001b[36m0.38098\u001b[0m       0.36973      1.03043      0.85272  0.83s\n"
       ]
      },
      {
       "output_type": "stream",
       "stream": "stdout",
       "text": [
        "     16       0.38651       0.37486      1.03108      0.84687  0.83s\n"
       ]
      },
      {
       "output_type": "stream",
       "stream": "stdout",
       "text": [
        "     17       0.38178       0.39236      0.97304      0.84101  0.83s\n"
       ]
      },
      {
       "output_type": "stream",
       "stream": "stdout",
       "text": [
        "     18       \u001b[36m0.37736\u001b[0m       0.37465      1.00724      0.84296  0.83s\n"
       ]
      },
      {
       "output_type": "stream",
       "stream": "stdout",
       "text": [
        "     19       \u001b[36m0.35866\u001b[0m       0.36874      0.97267      0.84687  0.83s\n"
       ]
      },
      {
       "output_type": "stream",
       "stream": "stdout",
       "text": [
        "     20       0.37130       0.37362      0.99379      0.84101  0.83s\n"
       ]
      },
      {
       "output_type": "stream",
       "stream": "stdout",
       "text": [
        "     21       0.36553       0.37335      0.97906      0.84296  0.83s\n"
       ]
      },
      {
       "output_type": "stream",
       "stream": "stdout",
       "text": [
        "     22       \u001b[36m0.35371\u001b[0m       0.38195      0.92606      0.84491  0.83s\n"
       ]
      },
      {
       "output_type": "stream",
       "stream": "stdout",
       "text": [
        "     23       0.36383       0.38611      0.94231      0.83710  0.83s\n"
       ]
      },
      {
       "output_type": "stream",
       "stream": "stdout",
       "text": [
        "     24       0.36619       0.38570      0.94942      0.84101  0.83s\n"
       ]
      },
      {
       "output_type": "stream",
       "stream": "stdout",
       "text": [
        "     25       \u001b[36m0.34694\u001b[0m       0.39237      0.88421      0.83710  0.83s\n"
       ]
      },
      {
       "output_type": "stream",
       "stream": "stdout",
       "text": [
        "     26       \u001b[36m0.34435\u001b[0m       0.37938      0.90766      0.84491  0.83s\n"
       ]
      },
      {
       "output_type": "stream",
       "stream": "stdout",
       "text": [
        "     27       0.35809       0.38468      0.93088      0.84101  0.83s\n"
       ]
      },
      {
       "output_type": "stream",
       "stream": "stdout",
       "text": [
        "     28       0.34741       0.39035      0.89002      0.84101  0.83s\n"
       ]
      },
      {
       "output_type": "stream",
       "stream": "stdout",
       "text": [
        "     29       0.35268       0.39307      0.89723      0.84296  0.83s\n"
       ]
      },
      {
       "output_type": "stream",
       "stream": "stdout",
       "text": [
        "     30       0.34448       0.38516      0.89437      0.83905  0.83s\n"
       ]
      },
      {
       "output_type": "stream",
       "stream": "stdout",
       "text": [
        "     31       0.35732       0.39062      0.91475      0.83710  0.83s\n"
       ]
      },
      {
       "output_type": "stream",
       "stream": "stdout",
       "text": [
        "     32       \u001b[36m0.33706\u001b[0m       0.39488      0.85359      0.84296  0.83s\n"
       ]
      },
      {
       "output_type": "stream",
       "stream": "stdout",
       "text": [
        "     33       0.34528       0.38602      0.89445      0.84101  0.83s\n"
       ]
      },
      {
       "output_type": "stream",
       "stream": "stdout",
       "text": [
        "     34       0.35248       0.38149      0.92396      0.83710  0.83s\n"
       ]
      },
      {
       "output_type": "stream",
       "stream": "stdout",
       "text": [
        "     35       0.34326       0.40373      0.85022      0.83905  0.83s\n"
       ]
      },
      {
       "output_type": "stream",
       "stream": "stdout",
       "text": [
        "     36       0.34764       0.39781      0.87387      0.83905  0.83s\n"
       ]
      }
     ],
     "prompt_number": 64
    },
    {
     "cell_type": "code",
     "collapsed": false,
     "input": [
      "from nolearn.lasagne.visualize import plot_loss\n",
      "plot_loss(net1)"
     ],
     "language": "python",
     "metadata": {},
     "outputs": [
      {
       "metadata": {},
       "output_type": "display_data",
       "png": "[encoded data removed]",
       "text": [
        "<matplotlib.figure.Figure at 0x7f79a7390490>"
       ]
      }
     ],
     "prompt_number": 60
    },
    {
     "cell_type": "code",
     "collapsed": false,
     "input": [],
     "language": "python",
     "metadata": {},
     "outputs": []
    }
   ],
   "metadata": {}
  }
 ]
}